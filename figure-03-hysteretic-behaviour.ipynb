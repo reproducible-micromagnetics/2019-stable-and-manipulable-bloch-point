{
 "cells": [
  {
   "cell_type": "markdown",
   "metadata": {},
   "source": [
    "# Figure 03: Hysteretic bahaviour\n",
    "\n",
    "In this notebook, hysteretic behaviour shown in Figure 3 in [Beg *et al.* Stable and manipulable Bloch point. *Scientific Reports*, **9**, 7959 (2019)](https://doi.org/10.1038/s41598-019-44462-2) is simulated.\n",
    "\n",
    "We need to simulate hysteretic behaviour of a $150 \\,\\text{nm}$ disk, which consists of two layers with different sign of Dzyaloshinskii-Moriya constant $D$. The bottom layer with $D<0$ has $20 \\,\\text{nm}$ thickness, whereas the top layer with $D>0$ has $10 \\,\\text{nm}$ thickness. We start by importing the necessary modules and creating the mesh with two regions. \n",
    "\n",
    "First we start by setting up the system object. (A more detailed description is provided in the example for Figure 02.)"
   ]
  },
  {
   "cell_type": "code",
   "execution_count": 1,
   "metadata": {},
   "outputs": [],
   "source": [
    "import oommfc as oc\n",
    "import discretisedfield as df\n",
    "%matplotlib inline\n",
    "\n",
    "d = 150e-9\n",
    "hb = 20e-9\n",
    "ht = 10e-9\n",
    "cell = (5e-9, 5e-9, 2.5e-9)\n",
    "n = (31, 31, 5)\n",
    "regions = {'r1': df.Region(p1=(-d/2, -d/2, -hb), p2=(d/2, d/2, 0)),\n",
    "           'r2': df.Region(p1=(-d/2, -d/2, 0), p2=(d/2, d/2, ht))}\n",
    "p1 = (-d/2, -d/2, -hb)\n",
    "p2 = (d/2, d/2, ht)\n",
    "mesh = oc.Mesh(p1=p1, p2=p2, n=n, regions=regions)\n",
    "\n",
    "D = {'r1': 1.58e-3, 'r2': -1.58e-3, 'r1:r2': 1.58e-9}\n",
    "Ms = 3.84e5\n",
    "A = 8.78e-12\n",
    "\n",
    "def Ms_fun(pos):\n",
    "    x, y, z = pos\n",
    "    if x**2 + y**2 <= (d/2)**2:\n",
    "        return Ms\n",
    "    else:\n",
    "        return 0\n",
    "\n",
    "system = oc.System(name='bloch-point')\n",
    "system.hamiltonian = oc.Exchange(A=A) + oc.DMI(D=D, crystalclass='T') + oc.Demag()\n",
    "system.m = df.Field(mesh, dim=3, value=(0, 0, 1), norm=Ms_fun)"
   ]
  },
  {
   "cell_type": "markdown",
   "metadata": {},
   "source": [
    "Next, we start our hysteresis simulations with $1\\,\\text{T}$ external magnetic field, which saturates the sample magnetisation in the $+z$ direction. By reducing the external magnetic field in steps of $0.1\\,\\text{T}$, we reach $\\mu_{0}H = 0$ and save the equilibrium magnetisation vector field as `m1`. We see that bottom and top layers relax in vortex-like magnetisation configurations with the same handedness, but with $+z$ and $−z$ polarisations, respectively. This results in a head-to-head Bloch point as we observed in the previous section. \n",
    "\n",
    "Now, we keep reducing the external magnetic field and when we reach $−1\\,\\text{T}$, the sample is again fully saturated, but this time in the $−z$ direction. Starting from this magnetisation state, we increase the field in the same steps until we reach $\\mu_{0}H = 0$, and save the magnetisation field as `m2`. Bottom and top layers are now hosting vortex-like states with the same handedness, but now with $−z$ and $+z$ polarisations, respectively. Therefore, a tail-to-tail Bloch point configuration is formed. Finally, we keep increasing an external magnetic field until we reach the $1\\,\\text{T}$ value from which we started the hysteresis loop simulation."
   ]
  },
  {
   "cell_type": "code",
   "execution_count": 2,
   "metadata": {},
   "outputs": [
    {
     "name": "stdout",
     "output_type": "stream",
     "text": [
      "2019/11/28 16:38: Running OOMMF (bloch-point.mif) ... (1.3 s)\n",
      "2019/11/28 16:38: Running OOMMF (bloch-point.mif) ... (1.3 s)\n",
      "2019/11/28 16:38: Running OOMMF (bloch-point.mif) ... (1.3 s)\n",
      "2019/11/28 16:38: Running OOMMF (bloch-point.mif) ... (1.3 s)\n",
      "2019/11/28 16:38: Running OOMMF (bloch-point.mif) ... (1.4 s)\n",
      "2019/11/28 16:38: Running OOMMF (bloch-point.mif) ... (1.4 s)\n",
      "2019/11/28 16:38: Running OOMMF (bloch-point.mif) ... (1.5 s)\n",
      "2019/11/28 16:38: Running OOMMF (bloch-point.mif) ... (2.2 s)\n",
      "2019/11/28 16:38: Running OOMMF (bloch-point.mif) ... (1.9 s)\n",
      "2019/11/28 16:38: Running OOMMF (bloch-point.mif) ... (1.4 s)\n",
      "2019/11/28 16:38: Running OOMMF (bloch-point.mif) ... (1.4 s)\n",
      "2019/11/28 16:38: Running OOMMF (bloch-point.mif) ... (1.4 s)\n",
      "2019/11/28 16:38: Running OOMMF (bloch-point.mif) ... (1.4 s)\n",
      "2019/11/28 16:38: Running OOMMF (bloch-point.mif) ... (1.5 s)\n",
      "2019/11/28 16:38: Running OOMMF (bloch-point.mif) ... (1.5 s)\n",
      "2019/11/28 16:38: Running OOMMF (bloch-point.mif) ... (1.5 s)\n",
      "2019/11/28 16:38: Running OOMMF (bloch-point.mif) ... (1.4 s)\n",
      "2019/11/28 16:38: Running OOMMF (bloch-point.mif) ... (1.7 s)\n",
      "2019/11/28 16:38: Running OOMMF (bloch-point.mif) ... (1.3 s)\n",
      "2019/11/28 16:38: Running OOMMF (bloch-point.mif) ... (1.4 s)\n",
      "2019/11/28 16:38: Running OOMMF (bloch-point.mif) ... (1.4 s)\n",
      "2019/11/28 16:38: Running OOMMF (bloch-point.mif) ... (1.5 s)\n",
      "2019/11/28 16:38: Running OOMMF (bloch-point.mif) ... (1.4 s)\n",
      "2019/11/28 16:38: Running OOMMF (bloch-point.mif) ... (1.4 s)\n",
      "2019/11/28 16:38: Running OOMMF (bloch-point.mif) ... (1.3 s)\n",
      "2019/11/28 16:38: Running OOMMF (bloch-point.mif) ... (1.5 s)\n",
      "2019/11/28 16:38: Running OOMMF (bloch-point.mif) ... (1.5 s)\n",
      "2019/11/28 16:38: Running OOMMF (bloch-point.mif) ... (1.4 s)\n",
      "2019/11/28 16:39: Running OOMMF (bloch-point.mif) ... (1.5 s)\n",
      "2019/11/28 16:39: Running OOMMF (bloch-point.mif) ... (1.4 s)\n",
      "2019/11/28 16:39: Running OOMMF (bloch-point.mif) ... (1.4 s)\n",
      "2019/11/28 16:39: Running OOMMF (bloch-point.mif) ... (1.4 s)\n",
      "2019/11/28 16:39: Running OOMMF (bloch-point.mif) ... (1.4 s)\n",
      "2019/11/28 16:39: Running OOMMF (bloch-point.mif) ... (1.4 s)\n",
      "2019/11/28 16:39: Running OOMMF (bloch-point.mif) ... (1.5 s)\n",
      "2019/11/28 16:39: Running OOMMF (bloch-point.mif) ... (1.4 s)\n",
      "2019/11/28 16:39: Running OOMMF (bloch-point.mif) ... (1.4 s)\n",
      "2019/11/28 16:39: Running OOMMF (bloch-point.mif) ... (1.5 s)\n",
      "2019/11/28 16:39: Running OOMMF (bloch-point.mif) ... (1.4 s)\n",
      "2019/11/28 16:39: Running OOMMF (bloch-point.mif) ... (1.3 s)\n",
      "2019/11/28 16:39: Running OOMMF (bloch-point.mif) ... (1.3 s)\n"
     ]
    }
   ],
   "source": [
    "import numpy as np\n",
    "\n",
    "# Create an array of external fields for which the system is relaxed.\n",
    "Bmax = 1  # maximum field in hysteresis (T)\n",
    "dB = 0.1  # field step (T)\n",
    "B_array = np.concatenate([np.arange(Bmax, -Bmax, -dB),\n",
    "                          np.arange(-Bmax, Bmax+1e-12, dB)])\n",
    "\n",
    "md = oc.MinDriver()\n",
    "system.hamiltonian += oc.Zeeman(H=(0, 0, 0))\n",
    "system.m = df.Field(mesh, dim=3, value=(0, 0, 1), norm=Ms_fun)\n",
    "mz = []\n",
    "c = 1\n",
    "for B in B_array:\n",
    "    system.hamiltonian.zeeman.H = (0, 0, B/oc.consts.mu0)\n",
    "    md.drive(system, overwrite=True)\n",
    "    if abs(B) < 1e-3:\n",
    "        system.m.write(f'm{c}.omf')\n",
    "        c += 1\n",
    "    mz.append(system.m.average[2])"
   ]
  },
  {
   "cell_type": "markdown",
   "metadata": {},
   "source": [
    "The hysteresis loop is"
   ]
  },
  {
   "cell_type": "code",
   "execution_count": 3,
   "metadata": {},
   "outputs": [
    {
     "data": {
      "image/png": "[encoded data removed]",
      "text/plain": [
       "<Figure size 576x288 with 1 Axes>"
      ]
     },
     "metadata": {
      "needs_background": "light"
     },
     "output_type": "display_data"
    }
   ],
   "source": [
    "import matplotlib.pyplot as plt\n",
    "from mpl_toolkits.axes_grid1.inset_locator import zoomed_inset_axes\n",
    "from mpl_toolkits.axes_grid1.inset_locator import mark_inset\n",
    "\n",
    "mz = np.array(mz)/Ms\n",
    "\n",
    "fig, ax = plt.subplots(figsize=(8, 4))\n",
    "ax.plot(B_array, mz, 'o-', label=r\"$\\langle m_{z} \\rangle$\")\n",
    "ax.plot(0, mz[10], 'o', label='head-to-head BP')\n",
    "ax.plot(0, mz[30], 'o', label='tail-to-tail BP')\n",
    "plt.xlabel(r\"$\\mu_{0}H$ (T)\")\n",
    "plt.ylabel(r\"$\\langle m_{z} \\rangle$\")\n",
    "plt.legend(loc=4)\n",
    "plt.grid()"
   ]
  },
  {
   "cell_type": "markdown",
   "metadata": {},
   "source": [
    "The magnetisation fields in the cross section for $B=0$ are:"
   ]
  },
  {
   "cell_type": "code",
   "execution_count": 4,
   "metadata": {},
   "outputs": [
    {
     "data": {
      "application/vnd.jupyter.widget-view+json": {
       "model_id": "101af699d4f74225b5a8cea2ec283810",
       "version_major": 2,
       "version_minor": 0
      },
      "text/plain": [
       "Output()"
      ]
     },
     "metadata": {},
     "output_type": "display_data"
    }
   ],
   "source": [
    "m1 = df.Field.fromfile('m1.omf')\n",
    "m1.plane('y').k3d_vectors(color_field=m1.z, head_size=20)"
   ]
  },
  {
   "cell_type": "code",
   "execution_count": 5,
   "metadata": {},
   "outputs": [
    {
     "data": {
      "image/png": "[encoded data removed]",
      "text/plain": [
       "<Figure size 720x360 with 2 Axes>"
      ]
     },
     "metadata": {
      "needs_background": "light"
     },
     "output_type": "display_data"
    }
   ],
   "source": [
    "m1.plane('y').mpl(figsize=(10, 5))"
   ]
  },
  {
   "cell_type": "code",
   "execution_count": 6,
   "metadata": {},
   "outputs": [
    {
     "data": {
      "application/vnd.jupyter.widget-view+json": {
       "model_id": "9c730c13d0224d258f252ddf61679938",
       "version_major": 2,
       "version_minor": 0
      },
      "text/plain": [
       "Output()"
      ]
     },
     "metadata": {},
     "output_type": "display_data"
    }
   ],
   "source": [
    "m2 = df.Field.fromfile('m2.omf')\n",
    "m2.plane('y').k3d_vectors(color_field=m2.z, head_size=20)"
   ]
  },
  {
   "cell_type": "code",
   "execution_count": 7,
   "metadata": {},
   "outputs": [
    {
     "data": {
      "image/png": "[encoded data removed]",
      "text/plain": [
       "<Figure size 720x360 with 2 Axes>"
      ]
     },
     "metadata": {
      "needs_background": "light"
     },
     "output_type": "display_data"
    }
   ],
   "source": [
    "m2.plane('y').mpl(figsize=(10, 5))"
   ]
  },
  {
   "cell_type": "markdown",
   "metadata": {},
   "source": [
    "## Conclusion\n",
    "\n",
    "By applying an external magnetic field we found that the system undergoes hysteretic behaviour and two different types of Bloch point configurations exist. In the first, the magnetisation at the centre of each layer points towards the interface - the head-to-head configuration. In the second, the magnetisation points away from the interface towards the outer surface of the disk - the tail-to-tail configuration. We demonstrated the switch between these two different types of Bloch point using an external magnetic field."
   ]
  }
 ],
 "metadata": {
  "kernelspec": {
   "display_name": "Python 3",
   "language": "python",
   "name": "python3"
  },
  "language_info": {
   "codemirror_mode": {
    "name": "ipython",
    "version": 3
   },
   "file_extension": ".py",
   "mimetype": "text/x-python",
   "name": "python",
   "nbconvert_exporter": "python",
   "pygments_lexer": "ipython3",
   "version": "3.6.7"
  },
  "widgets": {
   "application/vnd.jupyter.widget-state+json": {
    "state": {
     "09566cb024ab442cb1389575a1de2f1d": {
      "model_module": "@jupyter-widgets/output",
      "model_module_version": "1.0.0",
      "model_name": "OutputModel",
      "state": {
       "layout": "IPY_MODEL_49c97c9cc63d4a109d443d6c1de92c20",
       "outputs": [
        {
         "data": {
          "application/vnd.jupyter.widget-view+json": {
           "model_id": "c2aea23c3c0a4b94b16411417b7ce878",
           "version_major": 2,
           "version_minor": 0
          },
          "text/plain": "Plot(antialias=3, axes=['x', 'y', 'z'], axes_helper=1.0, background_color=16777215, camera=[4.5, 4.5, 4.5, 0.0…"
         },
         "metadata": {},
         "output_type": "display_data"
        }
       ]
      }
     },
     "101af699d4f74225b5a8cea2ec283810": {
      "model_module": "@jupyter-widgets/output",
      "model_module_version": "1.0.0",
      "model_name": "OutputModel",
      "state": {
       "layout": "IPY_MODEL_132bb791c03a42f8acd951982de204df",
       "outputs": [
        {
         "data": {
          "application/vnd.jupyter.widget-view+json": {
           "model_id": "cd9e3ef2c683487aa04e3fafcd8e99bb",
           "version_major": 2,
           "version_minor": 0
          },
          "text/plain": "Plot(antialias=3, axes=['x', 'y', 'z'], axes_helper=1.0, background_color=16777215, camera=[4.5, 4.5, 4.5, 0.0…"
         },
         "metadata": {},
         "output_type": "display_data"
        }
       ]
      }
     },
     "10a261db046f45da8bc036516370ad4e": {
      "model_module": "@jupyter-widgets/base",
      "model_module_version": "1.2.0",
      "model_name": "LayoutModel",
      "state": {}
     },
     "11575824c817443aa89930901ddb1ebb": {
      "model_module": "@jupyter-widgets/base",
      "model_module_version": "1.2.0",
      "model_name": "LayoutModel",
      "state": {}
     },
     "132bb791c03a42f8acd951982de204df": {
      "model_module": "@jupyter-widgets/base",
      "model_module_version": "1.2.0",
      "model_name": "LayoutModel",
      "state": {}
     },
     "13868711a3524f53ae9c80fdd237d0fc": {
      "model_module": "@jupyter-widgets/base",
      "model_module_version": "1.2.0",
      "model_name": "LayoutModel",
      "state": {}
     },
     "187782df07bc4c65a72e74a627ab19fe": {
      "buffers": [
       {
        "data": "eNp1070vQ1EcxnH+CYlE9EVbFWoQNGIxVJgMDYlg7MDiLTFoWk1RbfXeGsQgkXgJCYNBJUxiklhYLBZhIB39BRLynPu9iSYdPsPJuef8nqf31poYaLD+lFc6xS75ZXvfI/kTY/PcL9nLkKxddcnqTa8s3w3J3ENcJp/nZeh1T3wfD9Ly9S3B6o+wZp/nOc993M885pOHfOQlP33oZzl97Zl+KSc7xLb9wrnCkZE788nGRZtkL9slXYnI6m2fLN7HJPE4JWMvGYm8VaT5syr0Zs0+z3Oe+7ifecwnD/nI6/Z2+rj96LsUMTaDYu/4pLTnEc4XD1qlcOiR/LGxdeqV2u8hdd0tvKfppzkJvd8JvVmzz/Ocr32fzGM+echHXvLTh3705Xeydr1iW34pF9v+K9SRDxi5oLEeMlJhw5ljTUUl2TUi440xYc2++x44z33cz7x6eWpy04d+9OX74fdyv4utgMHcrCPTbqTDhvP98P8pL3QbiR4pxQclGx2W2aZRoTdr9nme8+593M885pOHfOR18tOHfvT9BRcQlYI=",
        "encoding": "base64",
        "path": [
         "colors",
         "compressed_buffer"
        ]
       },
       {
        "data": "eNpjYGiwZ8AAxIsBAF7EAv0=",
        "encoding": "base64",
        "path": [
         "model_matrix",
         "compressed_buffer"
        ]
       },
       {
        "data": "eNoVlHtUz2ccx40ct2luk3Hc55ZmCBs5fb7fx6XDXJbLMAlHszbbzIYT1dh2LNFFyaLM3RjG8Ytmmj7f5+G4X6ojQvXzIxFpUcmhsffn3+d8zvv9er/+ePIvJZu9odk8Ij1au3rGmu5RBdx6/8+6rv4Kkz+pmNv0itErMheYT18VctKcWL1w/nQzpe1N7n9ujc5tMcpcDr7OV5y1+u0jA0zTiqucujpO+03sZKp35vHQcfHa29PU3Lx/hdP9EnSXnAr9d8EF3hSUqOuZM7rLf6f436x12lq7TQ/OPcaxvyfrtD7f6RmjdvLtlhu0z5Juul5WNFddTNX75+10spO8ue/ANP3eiieuZ/tKDvv7p8u7hXeSd9zbuCe5R46NHJIc5NvIJ8lHr41ekl7w2McLLpDwgFOBk4QT/Ar8JPzYpbCLZBf2Kuwl2QsPCh5IPMCPgh8SP/Cm4I3EG3wq+CTxmX8pWcEzieczY5LM3CQ3X13ZWXsnxJjQ5VVcV9lbd/8z0pTuqOVV5f20e2y4GdS/luclDtRzKqeYjOwavlY4SC/daJtmftV8InqIrqR+5osfn7L/jQ/0xnvtzZVfKrn5wKE6M7aRmVz4mM9nDdPRMx/ozDtlXLF3uB6yV+uYZXc5YTBpr9dputviAn51QOnUk+HaxJ/iwllBusuaDvpF2Va++/F4vaz1Zuev3EBu8s1kPan+a9ec4CzX/PmfyLuVmRtI8o57G/ck97+eDLeRQ5KDfBv5JPnotdFL0gseGzwkPOBU4CThBL8CPwk/dinsItmFvQp7SfbCg4IHEg/wo+CHxA+8KXgj8QafCj5JfMKzgmcSz1G7Eo1Ve4O3hq115t1fZeaevM2eQRudY+MiTPltN88r3OKUXQ8zY3yLuc7Z4ZQuDDZTbxTy7Fm7nektAs1PT2/x1tl7nNtHfc0/Qbd4ffc/nOehPsbbdZOnlexz3M28TKXPTX6Rd8AZEu3RQ8PQ1eOQE/PsuH65oIB39HU5EUkpOjn9Gs+MyHT6nA3Rp/JyOTvohDPCt6UOHWb4+cBzzpR2CU6OO44P+xY5F5NaZXQOjsy4dLFc3q0r7jhy4R33Nu5J7pFjI4ckB/k28kny0Wujl6QXPDZ4SHjAqcBJwgl+BX4SfuxS2EWyC3sV9pLshQcFDyQe4EfBD4kfeFPwRuINPhV8kviEZwXPJJ7fOpxoRjfxcLvANhRQu8psz7/L6974ns5/FWEexHk4onccnX4aZt5Z4ubm25Ip5+dgE9CrmGeOSaHhnQKNJ7KIny9Mocvsaw5ZRbx5fQoN+NzHVE8t4hYRG2h6Gy/T9GARHzyWSrOSPLr1iGLO8d9MB7yztOdlMXdcvYu+3p+in01186TKDFpUFaKj3i/i3xrnUueAlnpO1xy2p3lZPnXxztozmzi+6yDLHtkzI96JzUjbNEPerTVnNpG8496e3TWHFO6RYyOHJAf5NvJJ8tFro5ekFzw2eEh4wKnAScIJfgV+En7sUthFsgt7FfaS7IUHBQ8kHuBHwQ+JH3hT8EbiDT4VfJL4hGcFzySePSuSzK1HD/ju0dPW8ksxJs3UcOM9BVbjPlEm1KuWxwTcsSYeDTc9Jj3jkpJSa/PoqWbyoRre1rvMau+2TdWHNZy96KGV+UM/08RU86KVj6yz73YwMe2rOcGUW+6cRqawYRWXxlVY2xuW6d0+T/izEU+sJYuNPhv+mPdF1ljjHqZr5+E9frN9nVV+5Es94F4+u7o1sOt/1FGfnJzBruCm9vixW5wNE0LYb0oru8HIzhnfLs3D39JW3q2UCSEk77i3cU9yjxwbOSQ5yLeRT5KPXhu9JL3gscFDwgNOBU4STvAr8JPwY5fCLpJd2Kuwl2QvPCh4IPEAPwp+SPzAm4I3Em/wqeCTxCc8K3gm8fw/GwvcUQ==",
        "encoding": "base64",
        "path": [
         "origins",
         "compressed_buffer"
        ]
       },
       {
        "data": "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",
        "encoding": "base64",
        "path": [
         "vectors",
         "compressed_buffer"
        ]
       }
      ],
      "model_module": "k3d",
      "model_module_version": "2.7.0",
      "model_name": "ObjectModel",
      "state": {
       "_view_count": null,
       "_view_module": null,
       "_view_module_version": "",
       "_view_name": null,
       "colors": {
        "dtype": "uint32",
        "shape": [
         155,
         2
        ]
       },
       "compression_level": 0,
       "head_color": 255,
       "head_size": 20,
       "id": 140545859896272,
       "label_size": 1,
       "labels": [],
       "line_width": 0.01,
       "model_matrix": {
        "dtype": "float32",
        "shape": [
         4,
         4
        ]
       },
       "name": null,
       "origin_color": 255,
       "origins": {
        "dtype": "float32",
        "shape": [
         155,
         3
        ]
       },
       "type": "Vectors",
       "use_head": true,
       "vectors": {
        "dtype": "float32",
        "shape": [
         155,
         3
        ]
       },
       "visible": true
      }
     },
     "1a7cfaa83e5543318229f7b0700a42ae": {
      "model_module": "k3d",
      "model_module_version": "2.7.0",
      "model_name": "PlotModel",
      "state": {
       "_backend_version": "2.7.0",
       "_dom_classes": [],
       "_view_count": null,
       "antialias": 3,
       "axes": [
        "x",
        "y",
        "z"
       ],
       "axes_helper": 1,
       "background_color": 16777215,
       "camera": [
        39.88476743990548,
        -92.4106499175075,
        2.32366467598964,
        0.00696563720703125,
        -0.03493690490722656,
        -5.651583671569824,
        -0.02535873979982207,
        0.014836044618850786,
        0.9995683198740516
       ],
       "camera_auto_fit": true,
       "camera_fov": 60,
       "camera_no_pan": false,
       "camera_no_rotate": false,
       "camera_no_zoom": false,
       "clipping_planes": [],
       "colorbar_object_id": -1,
       "fps_meter": false,
       "grid": [
        -1,
        -1,
        -1,
        1,
        1,
        1
       ],
       "grid_auto_fit": true,
       "grid_visible": true,
       "height": 512,
       "layout": "IPY_MODEL_a05ac14fc17e443e9ce7935205f2b513",
       "lighting": 1.5,
       "menu_visibility": true,
       "name": null,
       "object_ids": [
        139825483346832,
        139825905101264
       ],
       "rendering_steps": 1,
       "screenshot": "",
       "screenshot_scale": 2,
       "time": 0,
       "voxel_paint_color": 0
      }
     },
     "2547609205bd44d1b8913404cb6d550a": {
      "model_module": "k3d",
      "model_module_version": "2.7.0",
      "model_name": "PlotModel",
      "state": {
       "_backend_version": "2.7.0",
       "_dom_classes": [],
       "_view_count": null,
       "antialias": 3,
       "axes": [
        "x",
        "y",
        "z"
       ],
       "axes_helper": 1,
       "background_color": 16777215,
       "camera": [
        125.00246642376064,
        -187.51288673795878,
        7.5008171303521145,
        -0.00571441650390625,
        -0.0006154775619506836,
        -5.000000953674316,
        0,
        0,
        1
       ],
       "camera_auto_fit": true,
       "camera_fov": 60,
       "camera_no_pan": false,
       "camera_no_rotate": false,
       "camera_no_zoom": false,
       "clipping_planes": [],
       "colorbar_object_id": -1,
       "fps_meter": false,
       "grid": [
        -1,
        -1,
        -1,
        1,
        1,
        1
       ],
       "grid_auto_fit": true,
       "grid_visible": true,
       "height": 512,
       "layout": "IPY_MODEL_7df4f7012a6e47d3b53dd010a1d2a9af",
       "lighting": 1.5,
       "menu_visibility": true,
       "name": null,
       "object_ids": [
        140708890345232,
        140708899090960
       ],
       "rendering_steps": 1,
       "screenshot": "",
       "screenshot_scale": 2,
       "time": 0,
       "voxel_paint_color": 0
      }
     },
     "26f4cd3e5fb649ffb19d3be413862744": {
      "buffers": [
       {
        "data": "eNoDAAAAAAE=",
        "encoding": "base64",
        "path": [
         "colors",
         "compressed_buffer"
        ]
       },
       {
        "data": "eNpjYGiwZ8AAxIsBAF7EAv0=",
        "encoding": "base64",
        "path": [
         "model_matrix",
         "compressed_buffer"
        ]
       },
       {
        "data": "eNpN0CFywzAQheEw41LfIKSzpSXWLgzuDUp6hxCzFoSEegp8imKphyiNWHyMjj2x3m/0RvO8K32n4/X3sH1f5Xb+bPn+fW75KT5afr2/tfx+8ZYvL88t//z1mNlhzlL0bynqTwW7cN6zk/d8aN92ntB3zHF0HHvRWRz3DMwJvCvw3oBDYFfALeDZ8ul4ZX6YGMwN5gZzg7nB3GBuMDeYG8wN5gZzg7nB3GBuMDeYG8wN5gZzg7nB3GBuMDeYG8wN5gZzg7nB3GBuMJ+zzOcs8znLfM4yn7PM5yzzOct8ndlhzm6+/luK+lPBLpz37OQ9y3w7T+g75jg6jr3oLI57BuYE3hV4b8AhsCvgFvBsWeZbfpiMg8zHQebjIPNxkPk4yHwcZD4OMl9ndpizm6//lqL+VLAL5z07ec8y384T+o45jo5jLzqL456BOYF3Bd4bcAjsCrgFPFuW+ZYfJjXJvCaZ1yTzmmRek8xrknlNMl9ndpizm6//lqL+VLAL5z07ec8y384T+o45jo5jLzqL456BOYF3Bd4bcAjsCrgFPFuWeU3/8njPnw==",
        "encoding": "base64",
        "path": [
         "positions",
         "compressed_buffer"
        ]
       }
      ],
      "model_module": "k3d",
      "model_module_version": "2.7.0",
      "model_name": "ObjectModel",
      "state": {
       "_view_count": null,
       "_view_module": null,
       "_view_module_version": "",
       "_view_name": null,
       "color": 10075135,
       "colors": {
        "dtype": "uint32",
        "shape": [
         0
        ]
       },
       "compression_level": 0,
       "id": 140656679803152,
       "mesh_detail": 2,
       "model_matrix": {
        "dtype": "float32",
        "shape": [
         4,
         4
        ]
       },
       "name": null,
       "opacity": 1,
       "point_size": 0.1,
       "positions": {
        "dtype": "float32",
        "shape": [
         155,
         3
        ]
       },
       "shader": "3dSpecular",
       "type": "Points",
       "visible": true
      }
     },
     "270985a36c1d4fecb00195a3ef0c4c4e": {
      "model_module": "@jupyter-widgets/output",
      "model_module_version": "1.0.0",
      "model_name": "OutputModel",
      "state": {
       "layout": "IPY_MODEL_5744a09881c5415e845ba7bd0865ae7f",
       "outputs": [
        {
         "data": {
          "application/vnd.jupyter.widget-view+json": {
           "model_id": "e6737ab6046e47bc80a6ffe43bb487cd",
           "version_major": 2,
           "version_minor": 0
          },
          "text/plain": "Plot(antialias=3, axes=['x', 'y', 'z'], axes_helper=1.0, background_color=16777215, camera=[4.5, 4.5, 4.5, 0.0…"
         },
         "metadata": {},
         "output_type": "display_data"
        }
       ]
      }
     },
     "28127b4570e148238497386f116c3a51": {
      "model_module": "@jupyter-widgets/base",
      "model_module_version": "1.2.0",
      "model_name": "LayoutModel",
      "state": {}
     },
     "2976e84a9bcd4b2e893988ac9d87f67a": {
      "model_module": "k3d",
      "model_module_version": "2.7.0",
      "model_name": "PlotModel",
      "state": {
       "_backend_version": "2.7.0",
       "_dom_classes": [],
       "_view_count": null,
       "antialias": 3,
       "axes": [
        "x",
        "y",
        "z"
       ],
       "axes_helper": 1,
       "background_color": 16777215,
       "camera": [
        36.97195349954365,
        -55.46711735163331,
        -1.3022341620695221,
        -0.00571441650390625,
        -0.0006154775619506836,
        -5.000000953674316,
        0,
        0,
        1
       ],
       "camera_auto_fit": true,
       "camera_fov": 60,
       "camera_no_pan": false,
       "camera_no_rotate": false,
       "camera_no_zoom": false,
       "clipping_planes": [],
       "colorbar_object_id": -1,
       "fps_meter": false,
       "grid": [
        -1,
        -1,
        -1,
        1,
        1,
        1
       ],
       "grid_auto_fit": true,
       "grid_visible": true,
       "height": 512,
       "layout": "IPY_MODEL_8700d5ddf36646beb0d75d00dfc2f90a",
       "lighting": 1.5,
       "menu_visibility": true,
       "name": null,
       "object_ids": [
        140308815190448,
        140308279048680
       ],
       "rendering_steps": 1,
       "screenshot": "",
       "screenshot_scale": 2,
       "time": 0,
       "voxel_paint_color": 0
      }
     },
     "2aaa643b835a4b729db0450d99e98dab": {
      "buffers": [
       {
        "data": "eNoDAAAAAAE=",
        "encoding": "base64",
        "path": [
         "colors",
         "compressed_buffer"
        ]
       },
       {
        "data": "eNpjYGiwZ8AAxIsBAF7EAv0=",
        "encoding": "base64",
        "path": [
         "model_matrix",
         "compressed_buffer"
        ]
       },
       {
        "data": "eNpN0CFywzAQheEw41LfIKSzpSXWLgzuDUp6hxCzFoSEegp8imKphyiNWHyMjj2x3m/0RvO8K32n4/X3sH1f5Xb+bPn+fW75KT5afr2/tfx+8ZYvL88t//z1mNlhzlL0bynqTwW7cN6zk/d8aN92ntB3zHF0HHvRWRz3DMwJvCvw3oBDYFfALeDZ8ul4ZX6YGMwN5gZzg7nB3GBuMDeYG8wN5gZzg7nB3GBuMDeYG8wN5gZzg7nB3GBuMDeYG8wN5gZzg7nB3GBuMJ+zzOcs8znLfM4yn7PM5yzzOct8ndlhzm6+/luK+lPBLpz37OQ9y3w7T+g75jg6jr3oLI57BuYE3hV4b8AhsCvgFvBsWeZbfpiMg8zHQebjIPNxkPk4yHwcZD4OMl9ndpizm6//lqL+VLAL5z07ec8y384T+o45jo5jLzqL456BOYF3Bd4bcAjsCrgFPFuW+ZYfJjXJvCaZ1yTzmmRek8xrknlNMl9ndpizm6//lqL+VLAL5z07ec8y384T+o45jo5jLzqL456BOYF3Bd4bcAjsCrgFPFuWeU3/8njPnw==",
        "encoding": "base64",
        "path": [
         "positions",
         "compressed_buffer"
        ]
       }
      ],
      "model_module": "k3d",
      "model_module_version": "2.7.0",
      "model_name": "ObjectModel",
      "state": {
       "_view_count": null,
       "_view_module": null,
       "_view_module_version": "",
       "_view_name": null,
       "color": 10075135,
       "colors": {
        "dtype": "uint32",
        "shape": [
         0
        ]
       },
       "compression_level": 0,
       "id": 140656688565072,
       "mesh_detail": 2,
       "model_matrix": {
        "dtype": "float32",
        "shape": [
         4,
         4
        ]
       },
       "name": null,
       "opacity": 1,
       "point_size": 0.1,
       "positions": {
        "dtype": "float32",
        "shape": [
         155,
         3
        ]
       },
       "shader": "3dSpecular",
       "type": "Points",
       "visible": true
      }
     },
     "2e6f8cc7b48144209e28bac7b8def83c": {
      "model_module": "@jupyter-widgets/base",
      "model_module_version": "1.2.0",
      "model_name": "LayoutModel",
      "state": {}
     },
     "314725b6d56b4ca981e4531bc0dca8cd": {
      "model_module": "k3d",
      "model_module_version": "2.7.0",
      "model_name": "PlotModel",
      "state": {
       "_backend_version": "2.7.0",
       "_dom_classes": [],
       "_view_count": null,
       "antialias": 3,
       "axes": [
        "x",
        "y",
        "z"
       ],
       "axes_helper": 1,
       "background_color": 16777215,
       "camera": [
        -5.491174277172286,
        -52.94807613977916,
        8.1621252476445,
        0.02069091796875,
        0.0006154775619506836,
        -5,
        0.01692872341445696,
        0.1851263927190442,
        0.9825688968425558
       ],
       "camera_auto_fit": true,
       "camera_fov": 60,
       "camera_no_pan": false,
       "camera_no_rotate": false,
       "camera_no_zoom": false,
       "clipping_planes": [],
       "colorbar_object_id": -1,
       "fps_meter": false,
       "grid": [
        -1,
        -1,
        -1,
        1,
        1,
        1
       ],
       "grid_auto_fit": true,
       "grid_visible": true,
       "height": 512,
       "layout": "IPY_MODEL_d56a5c9fc5614e3d9bcb436342ad4152",
       "lighting": 1.5,
       "menu_visibility": true,
       "name": null,
       "object_ids": [
        140656678475472,
        140656679803152
       ],
       "rendering_steps": 1,
       "screenshot": "",
       "screenshot_scale": 2,
       "time": 0,
       "voxel_paint_color": 0
      }
     },
     "4705173aa55e400ca1483f66fc8ace92": {
      "buffers": [
       {
        "data": "eNoDAAAAAAE=",
        "encoding": "base64",
        "path": [
         "colors",
         "compressed_buffer"
        ]
       },
       {
        "data": "eNpjYGiwZ8AAxIsBAF7EAv0=",
        "encoding": "base64",
        "path": [
         "model_matrix",
         "compressed_buffer"
        ]
       },
       {
        "data": "eNpN0CFywzAQheEw41LfIKSzpSXWLgzuDUp6hxCzFoSEegp8imKphyiNWHyMjj2x3m/0RvO8K32n4/X3sH1f5Xb+bPn+fW75KT5afr2/tfx+8ZYvL88t//z1mNlhzlL0bynqTwW7cN6zk/d8aN92ntB3zHF0HHvRWRz3DMwJvCvw3oBDYFfALeDZ8ul4ZX6YGMwN5gZzg7nB3GBuMDeYG8wN5gZzg7nB3GBuMDeYG8wN5gZzg7nB3GBuMDeYG8wN5gZzg7nB3GBuMJ+zzOcs8znLfM4yn7PM5yzzOct8ndlhzm6+/luK+lPBLpz37OQ9y3w7T+g75jg6jr3oLI57BuYE3hV4b8AhsCvgFvBsWeZbfpiMg8zHQebjIPNxkPk4yHwcZD4OMl9ndpizm6//lqL+VLAL5z07ec8y384T+o45jo5jLzqL456BOYF3Bd4bcAjsCrgFPFuW+ZYfJjXJvCaZ1yTzmmRek8xrknlNMl9ndpizm6//lqL+VLAL5z07ec8y384T+o45jo5jLzqL456BOYF3Bd4bcAjsCrgFPFuWeU3/8njPnw==",
        "encoding": "base64",
        "path": [
         "positions",
         "compressed_buffer"
        ]
       }
      ],
      "model_module": "k3d",
      "model_module_version": "2.7.0",
      "model_name": "ObjectModel",
      "state": {
       "_view_count": null,
       "_view_module": null,
       "_view_module_version": "",
       "_view_name": null,
       "color": 10075135,
       "colors": {
        "dtype": "uint32",
        "shape": [
         0
        ]
       },
       "compression_level": 0,
       "id": 140708898088912,
       "mesh_detail": 2,
       "model_matrix": {
        "dtype": "float32",
        "shape": [
         4,
         4
        ]
       },
       "name": null,
       "opacity": 1,
       "point_size": 0.1,
       "positions": {
        "dtype": "float32",
        "shape": [
         155,
         3
        ]
       },
       "shader": "3dSpecular",
       "type": "Points",
       "visible": true
      }
     },
     "49c97c9cc63d4a109d443d6c1de92c20": {
      "model_module": "@jupyter-widgets/base",
      "model_module_version": "1.2.0",
      "model_name": "LayoutModel",
      "state": {}
     },
     "4c82c630c10a4b579351804467076833": {
      "model_module": "k3d",
      "model_module_version": "2.7.0",
      "model_name": "PlotModel",
      "state": {
       "_backend_version": "2.7.0",
       "_dom_classes": [],
       "_view_count": null,
       "antialias": 3,
       "axes": [
        "x",
        "y",
        "z"
       ],
       "axes_helper": 1,
       "background_color": 16777215,
       "camera": [
        124.99269197041076,
        -187.45738610110106,
        7.497200105244177,
        0.02069091796875,
        0.0006154775619506836,
        -5,
        0,
        0,
        1
       ],
       "camera_auto_fit": true,
       "camera_fov": 60,
       "camera_no_pan": false,
       "camera_no_rotate": false,
       "camera_no_zoom": false,
       "clipping_planes": [],
       "colorbar_object_id": -1,
       "fps_meter": false,
       "grid": [
        -1,
        -1,
        -1,
        1,
        1,
        1
       ],
       "grid_auto_fit": true,
       "grid_visible": true,
       "height": 512,
       "layout": "IPY_MODEL_b1f1c788d8954387a8f62e276ad079f0",
       "lighting": 1.5,
       "menu_visibility": true,
       "name": null,
       "object_ids": [
        140708899954960,
        140708898088912
       ],
       "rendering_steps": 1,
       "screenshot": "",
       "screenshot_scale": 2,
       "time": 0,
       "voxel_paint_color": 0
      }
     },
     "4d4604cea5c84c55a269222b20143352": {
      "model_module": "@jupyter-widgets/output",
      "model_module_version": "1.0.0",
      "model_name": "OutputModel",
      "state": {
       "layout": "IPY_MODEL_6ac278ccfcca46b9901f51bde0ac42f8",
       "outputs": [
        {
         "data": {
          "application/vnd.jupyter.widget-view+json": {
           "model_id": "314725b6d56b4ca981e4531bc0dca8cd",
           "version_major": 2,
           "version_minor": 0
          },
          "text/plain": "Plot(antialias=3, axes=['x', 'y', 'z'], axes_helper=1.0, background_color=16777215, camera=[4.5, 4.5, 4.5, 0.0…"
         },
         "metadata": {},
         "output_type": "display_data"
        }
       ]
      }
     },
     "4f1b8d5d2cf3497288566dc1b7c53015": {
      "buffers": [
       {
        "data": "eNp1070vQ1EcxnH+CYlE9EVbFWoQNGIxVJgMDYlg7MDiLTFoWk1RbfXeGsQgkXgJCYNBJUxiklhYLBZhIB39BRLynPu9iSYdPsPJuef8nqf31poYaLD+lFc6xS75ZXvfI/kTY/PcL9nLkKxddcnqTa8s3w3J3ENcJp/nZeh1T3wfD9Ly9S3B6o+wZp/nOc993M885pOHfOQlP33oZzl97Zl+KSc7xLb9wrnCkZE788nGRZtkL9slXYnI6m2fLN7HJPE4JWMvGYm8VaT5syr0Zs0+z3Oe+7ifecwnD/nI6/Z2+rj96LsUMTaDYu/4pLTnEc4XD1qlcOiR/LGxdeqV2u8hdd0tvKfppzkJvd8JvVmzz/Ocr32fzGM+echHXvLTh3705Xeydr1iW34pF9v+K9SRDxi5oLEeMlJhw5ljTUUl2TUi440xYc2++x44z33cz7x6eWpy04d+9OX74fdyv4utgMHcrCPTbqTDhvP98P8pL3QbiR4pxQclGx2W2aZRoTdr9nme8+593M885pOHfOR18tOHfvT9BRcQlYI=",
        "encoding": "base64",
        "path": [
         "colors",
         "compressed_buffer"
        ]
       },
       {
        "data": "eNpjYGiwZ8AAxIsBAF7EAv0=",
        "encoding": "base64",
        "path": [
         "model_matrix",
         "compressed_buffer"
        ]
       },
       {
        "data": "eNoVlHtUz2ccx40ct2luk3Hc55ZmCBs5fb7fx6XDXJbLMAlHszbbzIYT1dh2LNFFyaLM3RjG8Ytmmj7f5+G4X6ojQvXzIxFpUcmhsffn3+d8zvv9er/+ePIvJZu9odk8Ij1au3rGmu5RBdx6/8+6rv4Kkz+pmNv0itErMheYT18VctKcWL1w/nQzpe1N7n9ujc5tMcpcDr7OV5y1+u0jA0zTiqucujpO+03sZKp35vHQcfHa29PU3Lx/hdP9EnSXnAr9d8EF3hSUqOuZM7rLf6f436x12lq7TQ/OPcaxvyfrtD7f6RmjdvLtlhu0z5Juul5WNFddTNX75+10spO8ue/ANP3eiieuZ/tKDvv7p8u7hXeSd9zbuCe5R46NHJIc5NvIJ8lHr41ekl7w2McLLpDwgFOBk4QT/Ar8JPzYpbCLZBf2Kuwl2QsPCh5IPMCPgh8SP/Cm4I3EG3wq+CTxmX8pWcEzieczY5LM3CQ3X13ZWXsnxJjQ5VVcV9lbd/8z0pTuqOVV5f20e2y4GdS/luclDtRzKqeYjOwavlY4SC/daJtmftV8InqIrqR+5osfn7L/jQ/0xnvtzZVfKrn5wKE6M7aRmVz4mM9nDdPRMx/ozDtlXLF3uB6yV+uYZXc5YTBpr9dputviAn51QOnUk+HaxJ/iwllBusuaDvpF2Va++/F4vaz1Zuev3EBu8s1kPan+a9ec4CzX/PmfyLuVmRtI8o57G/ck97+eDLeRQ5KDfBv5JPnotdFL0gseGzwkPOBU4CThBL8CPwk/dinsItmFvQp7SfbCg4IHEg/wo+CHxA+8KXgj8QafCj5JfMKzgmcSz1G7Eo1Ve4O3hq115t1fZeaevM2eQRudY+MiTPltN88r3OKUXQ8zY3yLuc7Z4ZQuDDZTbxTy7Fm7nektAs1PT2/x1tl7nNtHfc0/Qbd4ffc/nOehPsbbdZOnlexz3M28TKXPTX6Rd8AZEu3RQ8PQ1eOQE/PsuH65oIB39HU5EUkpOjn9Gs+MyHT6nA3Rp/JyOTvohDPCt6UOHWb4+cBzzpR2CU6OO44P+xY5F5NaZXQOjsy4dLFc3q0r7jhy4R33Nu5J7pFjI4ckB/k28kny0Wujl6QXPDZ4SHjAqcBJwgl+BX4SfuxS2EWyC3sV9pLshQcFDyQe4EfBD4kfeFPwRuINPhV8kviEZwXPJJ7fOpxoRjfxcLvANhRQu8psz7/L6974ns5/FWEexHk4onccnX4aZt5Z4ubm25Ip5+dgE9CrmGeOSaHhnQKNJ7KIny9Mocvsaw5ZRbx5fQoN+NzHVE8t4hYRG2h6Gy/T9GARHzyWSrOSPLr1iGLO8d9MB7yztOdlMXdcvYu+3p+in01186TKDFpUFaKj3i/i3xrnUueAlnpO1xy2p3lZPnXxztozmzi+6yDLHtkzI96JzUjbNEPerTVnNpG8496e3TWHFO6RYyOHJAf5NvJJ8tFro5ekFzw2eEh4wKnAScIJfgV+En7sUthFsgt7FfaS7IUHBQ8kHuBHwQ+JH3hT8EbiDT4VfJL4hGcFzySePSuSzK1HD/ju0dPW8ksxJs3UcOM9BVbjPlEm1KuWxwTcsSYeDTc9Jj3jkpJSa/PoqWbyoRre1rvMau+2TdWHNZy96KGV+UM/08RU86KVj6yz73YwMe2rOcGUW+6cRqawYRWXxlVY2xuW6d0+T/izEU+sJYuNPhv+mPdF1ljjHqZr5+E9frN9nVV+5Es94F4+u7o1sOt/1FGfnJzBruCm9vixW5wNE0LYb0oru8HIzhnfLs3D39JW3q2UCSEk77i3cU9yjxwbOSQ5yLeRT5KPXhu9JL3gscFDwgNOBU4STvAr8JPwY5fCLpJd2Kuwl2QvPCh4IPEAPwp+SPzAm4I3Em/wqeCTxCc8K3gm8fw/GwvcUQ==",
        "encoding": "base64",
        "path": [
         "origins",
         "compressed_buffer"
        ]
       },
       {
        "data": "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",
        "encoding": "base64",
        "path": [
         "vectors",
         "compressed_buffer"
        ]
       }
      ],
      "model_module": "k3d",
      "model_module_version": "2.7.0",
      "model_name": "ObjectModel",
      "state": {
       "_view_count": null,
       "_view_module": null,
       "_view_module_version": "",
       "_view_name": null,
       "colors": {
        "dtype": "uint32",
        "shape": [
         155,
         2
        ]
       },
       "compression_level": 0,
       "head_color": 255,
       "head_size": 30,
       "id": 140656679708432,
       "label_size": 1,
       "labels": [],
       "line_width": 0.01,
       "model_matrix": {
        "dtype": "float32",
        "shape": [
         4,
         4
        ]
       },
       "name": null,
       "origin_color": 255,
       "origins": {
        "dtype": "float32",
        "shape": [
         155,
         3
        ]
       },
       "type": "Vectors",
       "use_head": true,
       "vectors": {
        "dtype": "float32",
        "shape": [
         155,
         3
        ]
       },
       "visible": true
      }
     },
     "5744a09881c5415e845ba7bd0865ae7f": {
      "model_module": "@jupyter-widgets/base",
      "model_module_version": "1.2.0",
      "model_name": "LayoutModel",
      "state": {}
     },
     "57bb421b2ff54030856e2b8f3fdbf290": {
      "buffers": [
       {
        "data": "eNp1000rRGEYxnHWNpZWM2Y0XoZBsZAyRV4mURazYCPRLEgoEjKNpsa8ODMLofGWiGwsZG0lJd/AxsrCp1B03ed/Cs3it3h6znPf133OcxIvk1WJH+m7kOwd+aWUazCpJrPZYtZazUrELHRKcbZLnKkeyY9GJd0zJKuBmEzXDEu8elBYs8/znKce9enn9ScP+cjr5mce5ku48y4+jUnmNijOgV+8udONZrvZbITNaptZbjfznVKc6RYn3ivZgX7ZCo/IXK1hbtbs8zznqUd9rx/9yUM+8rr5mYf5mDd1H5b8uU+c/XopOkHx5s+EDHV3mkyy2fy9D0vtwncqjPfJeigmzM2afe+7uuf/fU/60Z885HPzkp95mI95eU/FUkD2Dv2m/FvhuIITkz/zSe7CL5mbgNBn4XlCOt7vJfT5JazZ53nOU4/69KuU529u5mE+715wf9z3xb0onPqEvrlLk70yu9f1wv3h/0k+RGTtsU9mX6cl+laWuo93YW7W7PM856lHffrRnzzkIy/5vf+W++DO+w1pr3yG",
        "encoding": "base64",
        "path": [
         "colors",
         "compressed_buffer"
        ]
       },
       {
        "data": "eNpjYGiwZ8AAxIsBAF7EAv0=",
        "encoding": "base64",
        "path": [
         "model_matrix",
         "compressed_buffer"
        ]
       },
       {
        "data": "eNodkHlwjWcUxjGxRQcjM0LUGlLSaMWSSk2d73ttg44RSUTJ3IotMkYZy7QVRSPEEiTRIEmNRhiKJnqjaqvzvW9SDBMRESJyE7dqq7VyI8p0eU7/PXPmeX7Pz0ndZg66ztKngzN1u4p1JnhlNT2JSdeVEV+Yqil19Lh6gy4om2Om/1NLi/as137zo0xM5xq6ErFON7YeaS5H3aBwStV+RaHG/+k1Svp8rSZXoPEVXKXzxSn6aGc/U3O/nOZWfq1bHPPqU9WXKPHEGn1u6mnd6+9S6r1hlQ7rk62HVZygp+4VOm26S38ypoCs2uU6ZniAbnb6Kwqat1g747Ocs5nt6XDeAp3hGea+7dsVnpuTJHcLd5Y7/m38s/wjx0YOSw7ybeSz5KPXRi9Lb/NjXvtk9SUWHnAqcLJwgl+Bn4UfuxR2sezCXoW9/P/e+VEKHlg8wI+CHxY/8KbgjcUbfCr4ZPHppG5T8MziuaxNpknIrKew1ZY+mpRmXCsayK/DB/pIerK5t7eJkgPCtYqcb4YOaqLdiwfqgLoYU3y2kUKD39VRa2zTLsxHo1IG6AHB75mkr19QWUh/XXk+yJSvf04NZSG6zWetTXTtE4oY3U/v6/9AH//tIXWKC9YZi7VO+/IOLbnYSycW5uo+y6qpRXR3vdlJ1GZLKfXd20VPDA7Srx/uoe5FnfSLnBzneMVIasp8S/ffmOz2RtmFuTlt5W7hznLHv41/ln/k2MhhyUG+jXyWfPTa6GXpBY8NHhYecCpwsnCCX4GfhR+7FHax7MJehb0se+FBwQOLB/hR8MPiB94UvLF4g08Fnyw+4VnBM4vnroVZxmq6SQl5x5wZHTeahJLb1PPSASfwySrz+HY97Q7Od4YfWWDGh9aRH+12trimmdibtZS/N9dZ1GaMSXlxixK+2+VE/hBuzoy7RQtrdzjLJvUw7d019H23bKf+kb95HlhDrQZudx61eqYj56CrJsOhPhf0mwXV5Lq2xWnolq+z8q7T/rSNzqvTS3Xp1QpSJ1Kc/mv7ateHhjrkLnQCsw845fXptPvQGOfQ/Up3Ynyke968ELlbV+rTWe74t/HP8o8cGzksOci3kc+Sj14bvSy94LHBw8IDTgVOFk7wK/Cz8GOXwi6WXdirsJdlLzwoeGDxAD8Kflj8wJuCNxZv8Kngk8UnPCt4ZvG8Lj/LjG3rJd/tn2hts40mv+oODV+9nlqWrTIP0r3UsSiRZmQuMF2X19M9nk77JkwzI96po4kL42jz69HGm+yhjr3iaEJBuCmyPHSheiqNGNvD+GI95O0QS/Pu+Bv/Qg/t2zqZSl881QGj6mjmrnEU5H9Be9/U0a/PIujf5vn6ZWw9xffsQkczluqV73so3XN65MdL+uqZva/Q4Aebfon98YCz6XwODV0/mXfeeeTe7xvjHjKkmHG3cGe549/GP4fjHzk2clhykG8jnyUfvTZ6WXrBY4OHhQecCpwsnOBX4Gfhxy6FXSy7sFdhL8teeFDwwOIBfhT8sPiBNwVvLN7gU8Eni094VvDM4vnY1Qxz69ED6j7hL2tUaJrJNY30atp961zHZOPya6KfSz3W1cuJpt+Ul/R2t5vWjbQYE13USDNvXLeORNqmYXgjqa1V1uzfB5q2xkfbVl+zCjYEmbQgHy35qNKqD2ltals2UNDSCmvNqvt6f+CflHfmsjVln6MvzH9CU1MvWj1LcrTzx13y3S2xIsrn6vC7VfTtqZNW0qwuuiS6mPLiD1s9Zu90sifF08G4PCtrx053WOKsQUOGbJe79c2keJY7/m38s/wPK59rI4clB/k28lny0Wujl6UXPDZ4WHjAqcDJwgl+BX4WfuxS2MWyC3sV9rLshQcFDywe4EfBD4sfeFPwxuINPhV8sviEZwXPLJ7/A1cWydY=",
        "encoding": "base64",
        "path": [
         "origins",
         "compressed_buffer"
        ]
       },
       {
        "data": "eNoV0HtUz3cYB3BtNte55NAUI8pthmkXWb/P8xyXYc0liaR+6djUz21GuUyMmXVyMD8NR5IzcTY6LtOW4ff7Pk8RjkxpsnRRP0suJbYyBwd7nn8/53Pez/v96jG2hH62G24I7IJuRyn1TY7ktD0bYcCG61Q61c7hDZFmrV8VRb2I5jXjj1lRf1TTtG5RfD90OM3389DlsBl8LmgxddhXQ20bp3GZt5P29rxBzVlTeVDKQcoNvU7ltyfzgrQCqsm7QqfKQrl/0x1KzzlHvZ+P4WarHRtnLr1/ZQQ7Ewbx7hWZNHNsX37eM4wHXlpKLU4/p6CiZI4oak2WcwtFOJ28teq34TXNbx5P37WLpxe1BnkHfZf/IP9B/0sOSA5qjuSD5KPmy12Qu6h3PXlX4GRZKGof6QnSE7Wn9Afpj9pfdoHsQt21wM8Dshd1rziAOKA6iA+ID6qPuIG4obqJJ4gnqmePsSUgzqjO9iYvK84Zy3FPXsWrK5xu+1dLObkmDnaXe7nr9i1ny93GPK7d5Hpv2HJ2lWVZPo5trhwriU+m+9Ev/fJc7QYn8o4Tk+lwcJ3LsW4JR/dbRcUBja6i7xZzae80KnNUucIrF3KWK5tq5xa6cm86uGLLReqz84YrZeUcro1sotpgf3efxEhuiu/Kjzasc+dvHsPVjSN517wc99O7vdg3ZR6fjst0516xqO/vm3lA6rPhnrC8IWqeH5dpk3fQ973zcmzyH/X/0w3rbJKDmlMf7G+TfNT8oTtvhMhd1LuNcwtDpA9qH4+jKkR6ovb8K6AxRPqj9s8JrguRXai7cvvlhche1L1+jm0h4oDq8Kx2U4j4oPrsKfeyiRuqW+kKp008UT1jm7yMOKM6j4vPB3w8k1tV7Ich5iLEnZnNVXOemPp2V6GhJpazLztttanlMGGQnXvBMOvO1SqIuB7Nt7OzLc8r1fDNv7O4uqneeqv+BrjGzeJBwd605kEVdDgexUljh1Djywp46BPFGUMn0qjdZRD82UxunrmEVp0ugWfzI9k7xkmnfroA23ZP58r8HFqdeQLOloTxA9s9GnA+HewjR7GnMIC714VCUXV7PncokQ/dDg+Kjz45XM196kKpuLo96rv8J/mP+j858wRJDmqO5JPko+bLXZK7qHelD0kf1D7Sk6Qnak/pT9Iftb/sItmFukv2kuxF3SsOJA6oDuJD4oPqI24kbqhu4kniieopziTOqM6Lerrg4zZxXLx+Bt0Ly4cfS+ew1+0i95xWl+DOpjj+NmWUOVzyJ3RPiuX4FtvNyvIy+Ki/nUs/2WduplaAZ1UM09dZZt0XlXAUY7g6Y7+xeSqgOSKGkznbFHuuQ9sjMby4wG0Su12DLqPtvDbTY67mFoHnmZ2X9faGQEcB/BcRyxPyJsOju79C8tAYHtl5H8w/uQtm+0/h9Uda4z8HJ8LG893Zd3QC7vx7ftCB5gI1xwcHJ5K8o77Lf5L/qP8lhyQHNSfAUUCSj+MlX+6S3EW9u7TbNZI+qH2kJ0lP1J7Sn6Q/an/ZRbILdZfsJdmLulccSBxQHcSHxAfVR9xI3FDdxJPEE9VTnEmcUZ1p8GGroj6BG6ZcpJYfZlnp+Un8eq966wP/TZa95XKeXtLBeK+eawVOXcYrMypNw1ljhR9N4hep3rB9UaDVNCKJ6/z6g3+4r9UmP5E7tRoBENjDSvFN5DsDPoV3Xg60Kl9bylGXE6Dj1tHWAZ8v+W2/jbCyc4J1IWEhh1Vlw5TCVIvvfc6xxTXAuRnWu7ci+Puu3fGNLnusM+FBnLZ5Ktbfira2T6qkY1NScdsOn6DB8TePqfnDW9Hmh0mVoO8du+wx8h/1f35uhpEc1JywwlQj+aj5qzonGLmLerfT1tFG+qD2GfJyoJGeqD0xsIeR/qj9+4T7GtmFumvHokAje1H33j9rjDigOoiPER9UH3Ez4obqJp5GPFE9xdmIM6rz/87dvbA=",
        "encoding": "base64",
        "path": [
         "vectors",
         "compressed_buffer"
        ]
       }
      ],
      "model_module": "k3d",
      "model_module_version": "2.7.0",
      "model_name": "ObjectModel",
      "state": {
       "_view_count": null,
       "_view_module": null,
       "_view_module_version": "",
       "_view_name": null,
       "colors": {
        "dtype": "uint32",
        "shape": [
         155,
         2
        ]
       },
       "compression_level": 0,
       "head_color": 255,
       "head_size": 20,
       "id": 140545837147088,
       "label_size": 1,
       "labels": [],
       "line_width": 0.01,
       "model_matrix": {
        "dtype": "float32",
        "shape": [
         4,
         4
        ]
       },
       "name": null,
       "origin_color": 255,
       "origins": {
        "dtype": "float32",
        "shape": [
         155,
         3
        ]
       },
       "type": "Vectors",
       "use_head": true,
       "vectors": {
        "dtype": "float32",
        "shape": [
         155,
         3
        ]
       },
       "visible": true
      }
     },
     "64a0d304b53e4fabb6c9c17095e4dca5": {
      "buffers": [
       {
        "data": "eNp1070vQ1EcxnH+CYlE9EVbFWoQNGIxVJgMDYlg7MDiLTFoWk1RbfXeGsQgkXgJCYNBJUxiklhYLBZhIB39BRLynPu9iSYdPsPJuef8nqf31poYaLD+lFc6xS75ZXvfI/kTY/PcL9nLkKxddcnqTa8s3w3J3ENcJp/nZeh1T3wfD9Ly9S3B6o+wZp/nOc993M885pOHfOQlP33oZzl97Zl+KSc7xLb9wrnCkZE788nGRZtkL9slXYnI6m2fLN7HJPE4JWMvGYm8VaT5syr0Zs0+z3Oe+7ifecwnD/nI6/Z2+rj96LsUMTaDYu/4pLTnEc4XD1qlcOiR/LGxdeqV2u8hdd0tvKfppzkJvd8JvVmzz/Ocr32fzGM+echHXvLTh3705Xeydr1iW34pF9v+K9SRDxi5oLEeMlJhw5ljTUUl2TUi440xYc2++x44z33cz7x6eWpy04d+9OX74fdyv4utgMHcrCPTbqTDhvP98P8pL3QbiR4pxQclGx2W2aZRoTdr9nme8+593M885pOHfOR18tOHfvT9BRcQlYI=",
        "encoding": "base64",
        "path": [
         "colors",
         "compressed_buffer"
        ]
       },
       {
        "data": "eNpjYGiwZ8AAxIsBAF7EAv0=",
        "encoding": "base64",
        "path": [
         "model_matrix",
         "compressed_buffer"
        ]
       },
       {
        "data": "eNoVlHtUz2ccx40ct2luk3Hc55ZmCBs5fb7fx6XDXJbLMAlHszbbzIYT1dh2LNFFyaLM3RjG8Ytmmj7f5+G4X6ojQvXzIxFpUcmhsffn3+d8zvv9er/+ePIvJZu9odk8Ij1au3rGmu5RBdx6/8+6rv4Kkz+pmNv0itErMheYT18VctKcWL1w/nQzpe1N7n9ujc5tMcpcDr7OV5y1+u0jA0zTiqucujpO+03sZKp35vHQcfHa29PU3Lx/hdP9EnSXnAr9d8EF3hSUqOuZM7rLf6f436x12lq7TQ/OPcaxvyfrtD7f6RmjdvLtlhu0z5Juul5WNFddTNX75+10spO8ue/ANP3eiieuZ/tKDvv7p8u7hXeSd9zbuCe5R46NHJIc5NvIJ8lHr41ekl7w2McLLpDwgFOBk4QT/Ar8JPzYpbCLZBf2Kuwl2QsPCh5IPMCPgh8SP/Cm4I3EG3wq+CTxmX8pWcEzieczY5LM3CQ3X13ZWXsnxJjQ5VVcV9lbd/8z0pTuqOVV5f20e2y4GdS/luclDtRzKqeYjOwavlY4SC/daJtmftV8InqIrqR+5osfn7L/jQ/0xnvtzZVfKrn5wKE6M7aRmVz4mM9nDdPRMx/ozDtlXLF3uB6yV+uYZXc5YTBpr9dputviAn51QOnUk+HaxJ/iwllBusuaDvpF2Va++/F4vaz1Zuev3EBu8s1kPan+a9ec4CzX/PmfyLuVmRtI8o57G/ck97+eDLeRQ5KDfBv5JPnotdFL0gseGzwkPOBU4CThBL8CPwk/dinsItmFvQp7SfbCg4IHEg/wo+CHxA+8KXgj8QafCj5JfMKzgmcSz1G7Eo1Ve4O3hq115t1fZeaevM2eQRudY+MiTPltN88r3OKUXQ8zY3yLuc7Z4ZQuDDZTbxTy7Fm7nektAs1PT2/x1tl7nNtHfc0/Qbd4ffc/nOehPsbbdZOnlexz3M28TKXPTX6Rd8AZEu3RQ8PQ1eOQE/PsuH65oIB39HU5EUkpOjn9Gs+MyHT6nA3Rp/JyOTvohDPCt6UOHWb4+cBzzpR2CU6OO44P+xY5F5NaZXQOjsy4dLFc3q0r7jhy4R33Nu5J7pFjI4ckB/k28kny0Wujl6QXPDZ4SHjAqcBJwgl+BX4SfuxS2EWyC3sV9pLshQcFDyQe4EfBD4kfeFPwRuINPhV8kviEZwXPJJ7fOpxoRjfxcLvANhRQu8psz7/L6974ns5/FWEexHk4onccnX4aZt5Z4ubm25Ip5+dgE9CrmGeOSaHhnQKNJ7KIny9Mocvsaw5ZRbx5fQoN+NzHVE8t4hYRG2h6Gy/T9GARHzyWSrOSPLr1iGLO8d9MB7yztOdlMXdcvYu+3p+in01186TKDFpUFaKj3i/i3xrnUueAlnpO1xy2p3lZPnXxztozmzi+6yDLHtkzI96JzUjbNEPerTVnNpG8496e3TWHFO6RYyOHJAf5NvJJ8tFro5ekFzw2eEh4wKnAScIJfgV+En7sUthFsgt7FfaS7IUHBQ8kHuBHwQ+JH3hT8EbiDT4VfJL4hGcFzySePSuSzK1HD/ju0dPW8ksxJs3UcOM9BVbjPlEm1KuWxwTcsSYeDTc9Jj3jkpJSa/PoqWbyoRre1rvMau+2TdWHNZy96KGV+UM/08RU86KVj6yz73YwMe2rOcGUW+6cRqawYRWXxlVY2xuW6d0+T/izEU+sJYuNPhv+mPdF1ljjHqZr5+E9frN9nVV+5Es94F4+u7o1sOt/1FGfnJzBruCm9vixW5wNE0LYb0oru8HIzhnfLs3D39JW3q2UCSEk77i3cU9yjxwbOSQ5yLeRT5KPXhu9JL3gscFDwgNOBU4STvAr8JPwY5fCLpJd2Kuwl2QvPCh4IPEAPwp+SPzAm4I3Em/wqeCTxCc8K3gm8fw/GwvcUQ==",
        "encoding": "base64",
        "path": [
         "origins",
         "compressed_buffer"
        ]
       },
       {
        "data": "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",
        "encoding": "base64",
        "path": [
         "vectors",
         "compressed_buffer"
        ]
       }
      ],
      "model_module": "k3d",
      "model_module_version": "2.7.0",
      "model_name": "ObjectModel",
      "state": {
       "_view_count": null,
       "_view_module": null,
       "_view_module_version": "",
       "_view_name": null,
       "colors": {
        "dtype": "uint32",
        "shape": [
         155,
         2
        ]
       },
       "compression_level": 0,
       "head_color": 255,
       "head_size": 20,
       "id": 140656678475472,
       "label_size": 1,
       "labels": [],
       "line_width": 0.01,
       "model_matrix": {
        "dtype": "float32",
        "shape": [
         4,
         4
        ]
       },
       "name": null,
       "origin_color": 255,
       "origins": {
        "dtype": "float32",
        "shape": [
         155,
         3
        ]
       },
       "type": "Vectors",
       "use_head": true,
       "vectors": {
        "dtype": "float32",
        "shape": [
         155,
         3
        ]
       },
       "visible": true
      }
     },
     "67114895e8774470b13a8a90c1896b04": {
      "model_module": "k3d",
      "model_module_version": "2.7.0",
      "model_name": "PlotModel",
      "state": {
       "_backend_version": "2.7.0",
       "_dom_classes": [],
       "_view_count": null,
       "antialias": 3,
       "axes": [
        "x",
        "y",
        "z"
       ],
       "axes_helper": 1,
       "background_color": 16777215,
       "camera": [
        46.636920360171,
        -128.35408568652593,
        8.89031519036351,
        0.031036376953125,
        0.0009529590606689453,
        -5.003619194030762,
        -0.03530740077580075,
        0.036060889534597775,
        0.9987256879125695
       ],
       "camera_auto_fit": true,
       "camera_fov": 60,
       "camera_no_pan": false,
       "camera_no_rotate": false,
       "camera_no_zoom": false,
       "clipping_planes": [],
       "colorbar_object_id": -1,
       "fps_meter": false,
       "grid": [
        -1,
        -1,
        -1,
        1,
        1,
        1
       ],
       "grid_auto_fit": true,
       "grid_visible": true,
       "height": 512,
       "layout": "IPY_MODEL_76c1cafa83ef47139d7d229f112f2813",
       "lighting": 1.5,
       "menu_visibility": true,
       "name": null,
       "object_ids": [
        140656687921360,
        140657209435920
       ],
       "rendering_steps": 1,
       "screenshot": "",
       "screenshot_scale": 2,
       "time": 0,
       "voxel_paint_color": 0
      }
     },
     "6a2bc9f776c74ac486d44953c5c7b123": {
      "model_module": "@jupyter-widgets/output",
      "model_module_version": "1.0.0",
      "model_name": "OutputModel",
      "state": {
       "layout": "IPY_MODEL_28127b4570e148238497386f116c3a51",
       "outputs": [
        {
         "data": {
          "application/vnd.jupyter.widget-view+json": {
           "model_id": "4c82c630c10a4b579351804467076833",
           "version_major": 2,
           "version_minor": 0
          },
          "text/plain": "Plot(antialias=3, axes=['x', 'y', 'z'], axes_helper=1.0, background_color=16777215, camera=[4.5, 4.5, 4.5, 0.0…"
         },
         "metadata": {},
         "output_type": "display_data"
        }
       ]
      }
     },
     "6ac278ccfcca46b9901f51bde0ac42f8": {
      "model_module": "@jupyter-widgets/base",
      "model_module_version": "1.2.0",
      "model_name": "LayoutModel",
      "state": {}
     },
     "6cb97b2423684e209169813e76447eec": {
      "model_module": "@jupyter-widgets/base",
      "model_module_version": "1.2.0",
      "model_name": "LayoutModel",
      "state": {}
     },
     "6f196d0f2abd43f3bc723869d3e19750": {
      "model_module": "k3d",
      "model_module_version": "2.7.0",
      "model_name": "PlotModel",
      "state": {
       "_backend_version": "2.7.0",
       "_dom_classes": [],
       "_view_count": null,
       "antialias": 3,
       "axes": [
        "x",
        "y",
        "z"
       ],
       "axes_helper": 1,
       "background_color": 16777215,
       "camera": [
        93.22349851404609,
        -139.80359591655403,
        4.320280759607753,
        0.02069091796875,
        0.0006154775619506836,
        -5,
        0,
        0,
        1
       ],
       "camera_auto_fit": true,
       "camera_fov": 60,
       "camera_no_pan": false,
       "camera_no_rotate": false,
       "camera_no_zoom": false,
       "clipping_planes": [],
       "colorbar_object_id": -1,
       "fps_meter": false,
       "grid": [
        -1,
        -1,
        -1,
        1,
        1,
        1
       ],
       "grid_auto_fit": true,
       "grid_visible": true,
       "height": 512,
       "layout": "IPY_MODEL_930b099f42cc4e08ad4cbca06c92621d",
       "lighting": 1.5,
       "menu_visibility": true,
       "name": null,
       "object_ids": [
        140545859896272,
        140545515176784
       ],
       "rendering_steps": 1,
       "screenshot": "",
       "screenshot_scale": 2,
       "time": 0,
       "voxel_paint_color": 0
      }
     },
     "73952113e8324cf6a4ef8a0dcbc9ea73": {
      "buffers": [
       {
        "data": "eNoDAAAAAAE=",
        "encoding": "base64",
        "path": [
         "colors",
         "compressed_buffer"
        ]
       },
       {
        "data": "eNpjYGiwZ8AAxIsBAF7EAv0=",
        "encoding": "base64",
        "path": [
         "model_matrix",
         "compressed_buffer"
        ]
       },
       {
        "data": "eNpN0CFywzAQheEw41LfIKSzpSXWLgzuDUp6hxCzFoSEegp8imKphyiNWHyMjj2x3m/0RvO8K32n4/X3sH1f5Xb+bPn+fW75KT5afr2/tfx+8ZYvL88t//z1mNlhzlL0bynqTwW7cN6zk/d8aN92ntB3zHF0HHvRWRz3DMwJvCvw3oBDYFfALeDZ8ul4ZX6YGMwN5gZzg7nB3GBuMDeYG8wN5gZzg7nB3GBuMDeYG8wN5gZzg7nB3GBuMDeYG8wN5gZzg7nB3GBuMJ+zzOcs8znLfM4yn7PM5yzzOct8ndlhzm6+/luK+lPBLpz37OQ9y3w7T+g75jg6jr3oLI57BuYE3hV4b8AhsCvgFvBsWeZbfpiMg8zHQebjIPNxkPk4yHwcZD4OMl9ndpizm6//lqL+VLAL5z07ec8y384T+o45jo5jLzqL456BOYF3Bd4bcAjsCrgFPFuW+ZYfJjXJvCaZ1yTzmmRek8xrknlNMl9ndpizm6//lqL+VLAL5z07ec8y384T+o45jo5jLzqL456BOYF3Bd4bcAjsCrgFPFuWeU3/8njPnw==",
        "encoding": "base64",
        "path": [
         "positions",
         "compressed_buffer"
        ]
       }
      ],
      "model_module": "k3d",
      "model_module_version": "2.7.0",
      "model_name": "ObjectModel",
      "state": {
       "_view_count": null,
       "_view_module": null,
       "_view_module_version": "",
       "_view_name": null,
       "color": 10075135,
       "colors": {
        "dtype": "uint32",
        "shape": [
         0
        ]
       },
       "compression_level": 0,
       "id": 140308279486112,
       "mesh_detail": 2,
       "model_matrix": {
        "dtype": "float32",
        "shape": [
         4,
         4
        ]
       },
       "name": null,
       "opacity": 1,
       "point_size": 0.1,
       "positions": {
        "dtype": "float32",
        "shape": [
         155,
         3
        ]
       },
       "shader": "3dSpecular",
       "type": "Points",
       "visible": true
      }
     },
     "76c1cafa83ef47139d7d229f112f2813": {
      "model_module": "@jupyter-widgets/base",
      "model_module_version": "1.2.0",
      "model_name": "LayoutModel",
      "state": {}
     },
     "7df4f7012a6e47d3b53dd010a1d2a9af": {
      "model_module": "@jupyter-widgets/base",
      "model_module_version": "1.2.0",
      "model_name": "LayoutModel",
      "state": {}
     },
     "7ff6c6d8efa74c76a4cd45dfb71f0b1f": {
      "model_module": "@jupyter-widgets/base",
      "model_module_version": "1.2.0",
      "model_name": "LayoutModel",
      "state": {}
     },
     "844189cf22104663a17e4f90358bddc3": {
      "model_module": "@jupyter-widgets/output",
      "model_module_version": "1.0.0",
      "model_name": "OutputModel",
      "state": {
       "layout": "IPY_MODEL_6cb97b2423684e209169813e76447eec",
       "outputs": [
        {
         "data": {
          "application/vnd.jupyter.widget-view+json": {
           "model_id": "1a7cfaa83e5543318229f7b0700a42ae",
           "version_major": 2,
           "version_minor": 0
          },
          "text/plain": "Plot(antialias=3, axes=['x', 'y', 'z'], axes_helper=1.0, background_color=16777215, camera=[4.5, 4.5, 4.5, 0.0…"
         },
         "metadata": {},
         "output_type": "display_data"
        }
       ]
      }
     },
     "85526216020741b0bd4f940cb3a73678": {
      "buffers": [
       {
        "data": "eNp1000rRGEYxnHWNpZWM2Y0XoZBsZAyRV4mURazYCPRLEgoEjKNpsa8ODMLofGWiGwsZG0lJd/AxsrCp1B03ed/Cs3it3h6znPf133OcxIvk1WJH+m7kOwd+aWUazCpJrPZYtZazUrELHRKcbZLnKkeyY9GJd0zJKuBmEzXDEu8elBYs8/znKce9enn9ScP+cjr5mce5ku48y4+jUnmNijOgV+8udONZrvZbITNaptZbjfznVKc6RYn3ivZgX7ZCo/IXK1hbtbs8zznqUd9rx/9yUM+8rr5mYf5mDd1H5b8uU+c/XopOkHx5s+EDHV3mkyy2fy9D0vtwncqjPfJeigmzM2afe+7uuf/fU/60Z885HPzkp95mI95eU/FUkD2Dv2m/FvhuIITkz/zSe7CL5mbgNBn4XlCOt7vJfT5JazZ53nOU4/69KuU529u5mE+715wf9z3xb0onPqEvrlLk70yu9f1wv3h/0k+RGTtsU9mX6cl+laWuo93YW7W7PM856lHffrRnzzkIy/5vf+W++DO+w1pr3yG",
        "encoding": "base64",
        "path": [
         "colors",
         "compressed_buffer"
        ]
       },
       {
        "data": "eNpjYGiwZ8AAxIsBAF7EAv0=",
        "encoding": "base64",
        "path": [
         "model_matrix",
         "compressed_buffer"
        ]
       },
       {
        "data": "eNodkHlQz3kYxzG5siPDjMg6w6ZlbRttmO35fj+ucawRhaX5rdaRxlgmzO5iHUk5osNmVdvYxDhXlHWF5/v51MowIURS/bSOss5VyTJ7vJ/995ln3u/X++XEJZn9rvP05Scpul3pBuO7qpyehSXqG0HfmrIp1fS0fKPOKZlrZv5TSYt3xWuPBaEmrHMFXQvaoBtbh5grobcpgOK0R66/8Xx+k6K/Wa/J5W0acq5TcX6sPtrZw1TUXqV5N9bpFsdr9OnyyxR1aq2+MK1A9/q7iHpvXK0H9knTQ0tP0fO8FTphpkt/MTqHrMrlOiy4k25W8D35zF+inXGpzvmU9nQoc6F2N/nlDe88Ny8jPVruFu4sd/zb+Gf5R46NHJYc5NvIZ8lHr41elt7mx2ts8LDwgFOBk4UT/Ar8LPzYpbCLZRf2Kuzl//cuCFXwwOIBfhT8sPiBNwVvLN7gU8Eni08nLknBM4vnkjYpJjLFTQPXWPpodIJxragnD69P9eHElebR7iZa2SlAq2ELzJCPmyhrySDdqTrM5J9vJH/fD3XoWtu0G9hAI2MH6AG+H5noda+opL+fvlHsY67Gv6T6kv66zdetzdTKZxQ0qp/e41enT/z+mDpO99XJS7RO+O4+xVzqpaOOZOg+y8qpxdTueosTpc3WIuq7u4ue4Ouj3z7eRd1zO+pX6enOidIQakp5T/vvOHDsYF0unLeVu3WyNITljn8b/yz/yLGRw5KDfBv5LPnotdHL0gseGzwsPOBU4GThBL8CPws/dinsYtmFvQp7WfbCg4IHFg/wo+CHxQ+8KXhj8QafCj5ZfMKzgmcWz12PpBqr6Q5FZh53ZnXYZCIL71HPy/sc72erzdN7bsryzXaCDy804/yryYOynK2uGSb8TiVl785wFrcZbWJf3aXIn3c6w34JMGfH3qVFlTucZZN6mPZ5FXSgW5rjfuJpXnpXUKtB250nrV7oYXPRVZHsUJ+L+t3CcnLd3OrUd8vWqZm3aG/CJudNwVJddL2U1KlYx299X+0absgrY5HjnbbPuepOpKyDo50xtx8ExNT65s+f31/u1jV3Issd/zb+Wf6RYyOHJQf5NvJZ8tFro5elFzw2eFh4wKnAycIJfgV+Fn7sUtjFsgt7Ffay7IUHBQ8sHuBHwQ+LH3hT8MbiDT4VfLL4hGcFzyyeN2SnmjFta6jh3q+0vtkmk112n4LXxFPLktWmLrGGvHKjaFbKQtN1uZse8UzaM36GGfFBNU1YNJ22vB1lalZWUYde02l8ToDJtaroYvk0GjGmh2kIr6Iar3Caf9/TeB6poj3bJlPRq+e608hqmr1zLPl4XtQ176rptxdB9G/zbP063E0RPbvQ0eSletXgKtpSVRAyMaavnt37Gg2p23wu/Ng+Z3NxOg2Jn8z0eW3AxHND8wMD8xl3a0txOgfijn8b/zwY/8ixkcOJyEG+jXyWfPTa6GXpBY8NHhYecCpwsnCCX4GfhR+7FHax7MJehb0se+FBwQOLB/hR8MPiB94UvLF4g08Fnyw+4VnBM4vn49eTzd0nddR9/F/WSP8Ek2Ea6c2MWutCh5XG5dFEJ4uqrOtXoky/Ka/p/W53rNsJYWZqbiPNvn3LOjzMNvXBjaS2lVlzHgwybU0DJa25aeVs9DEJPg0U89kNy92/talsWU8+S0uttatr9V7vPynz7BVryh5HX1zwjKbFXbJ6FqZr54+H1PCw0Aq6Ok8HPCyjn86ctqK/6qILp+ZTZsQhq8ecH50fJkXQ/umZVlLs62NnlpXmBQZul7uVNimC5Y5/G/8s/8ixkcOSg3wb+Sz56LXRy9ILHhs8LDzgVOBk4QS/Aj8LP3Yp7GLZhb0Ke1n2woOCBxYP8KPgh8UPvCl4Y/EGnwo+WXzCs4JnFs//AXRhyWU=",
        "encoding": "base64",
        "path": [
         "origins",
         "compressed_buffer"
        ]
       },
       {
        "data": "eNodkH1Q1XUWxqM3NRtbcdJV1CTFF2qzxd1WXO73nNHszUyRMCC4xFgKauYqaCpWVsZgWns1bURkZ6WmFypd2TDr3t85UGqjrghBIS9eroOAQtSEm72M1XP698yZ5/k8n9Gz6+Vtv9PeuGEcymuU8YVpumPvFpq8+Yw0LvBrSm+aey6mTTJ+ydRn7jvgZfwvLA8Pz9Cv5yTIspiInEp+RI9OWylD9rXLDX0Pa1N0QP415qxcKl+g8UXvSNWcM9LcNU+X7zgi7dV1crhpjk7q75aSyqMy7srdeskbrC5QJX+tm66B3Hjd83SZpM8er1fGJOuUk6vlqk+uyLTaQk2tHShe4BVJDQQ0fPnthBnDOxJKdu/WhbUDCXeyO/4J/2T/yCHksOUgn5DPlo9eQi9bb6S6jsDDxgNOAicbJ/gJ/Gz82EXYxbZreUyEsJdtLzwQPLB5gB+CHzY/8EbwxuYNPgk+2XyOnl1P8Mzm2d8f5eUEsjXnx2u44elAyL9+tRa259Ce5qhQ57616oUGucsdW4N/uXOtBpvKveF524OVXoEeLomR/0ysDg6+PV93HZon+xM7g3mbVmnmxA1SP6EvWPvSSm0ct0Na89qCKa1PanmwQroXnwhWncvTlleOy+TXzwaL1i3SjrR+6UqMDd2an6b9S27Wy5s3hWq23a3hvhlaurQy9NOFW3RU0VL1cspCVXWejP9om8bvmpLwbvfUaeZcc8p8h+o8svvepZU+/LP9/7B5kw85bDkXEmN9yGfLv+31s0noZevtWXwiCTxsPOG8tiRwsnE2TOhLAj8b/4HEziTsYttVObE6CXvZ9o7I254ED2wefujYmgQ/bH5Km6N88MYCb/Dpg082n9n9UQ6e2Tzfu6SG+HK6Dmh5g+5wxynn08e0bdGPrmdwA/W2Z2vFqYCvo7iZ7o/361i60+tuaKPUM5naVVHhRa4O0/PfParh/h5vbM9ZCt77qMYnRssz37TRkIMZWjD7Dun7tYW+HZGhpVPnysw9TZT4eLpeSl8lGz6pp5+XpWl0VkA+futz2r5nobbWVMrGskP0WX2yfuO7KJOPlZB/xkw9d2KC/rFzDtWGb9Sj7+brPV89fnBVV/nvznGX0+Eb2e74F/xzBP/IEeSw5SBfkM+Wj15BL1sveAQ8bDzgFHCycYJfwM/Gj12CXWy7sFewl20vPAg8sHmAH4EfNj/wJvDG78EbfAp8svmEZ4FnNs8rxgTpnkE5evqFR+Ricg39u3GRRnXVhhYNOEndW3P0xaKZ7v36L2hkQbYuuWqnW9fcRH+f5NfGB/a5c8UtFNmQpfJsudv0VCvt5ywNl77hfJEWupSapYVa4U5HztANH2TpyiMhlz/8Sxo2y6/PlUVcQ1UtRX7265px0RSXd4S+T83W+6vn0f8v/JcKp2bpjKH7aNnh3fRY7Hx94YOB/O07c2nLsZE6alYu09wlBx8MfWjO7S4vHxvJdse/4J/tHzmCHLYc5Avy+T7ko1fQywXoBY+Ah58FDzgFnGyc4Bfws/Fjl2AX2y7sFexl2wsPAg9sHuBH4IfND7wJvLF5g0+BTzaf8CzwzOZZbn/fa+nJ1d75x+Xav5V7JTUFev0tPd5dsVs9/7VrdWH9EDd042IvbsEaXVfa6no/c17K/gL9pTiadq6I8/qnF2hnzCSKTRnlDarJ1z8MmE4UN9orGpWv3ZMfpD/9OsVrvW61ZpzKpZv+Oct7c8Q/9LaYLbR+aK73ee6TmtxWQcknij29+IRmn26n6qpS78/nU/XVm0fykGF7vU9TpumObQv46/OZ3msPtcqB+cX86vNrEj7OT/7ded/5TLfzoVayO/4d/tn+keOQw5aDfId8tnz0OvSy9YLHgYeNB5wOnJwOTvA78LPxY5fDLrZdu1bEOexl2wsPDh7YPERvXOzgh80PvDl4Y/MGnw4+2XzCs4NnNs+/ASCPuzk=",
        "encoding": "base64",
        "path": [
         "vectors",
         "compressed_buffer"
        ]
       }
      ],
      "model_module": "k3d",
      "model_module_version": "2.7.0",
      "model_name": "ObjectModel",
      "state": {
       "_view_count": null,
       "_view_module": null,
       "_view_module_version": "",
       "_view_name": null,
       "colors": {
        "dtype": "uint32",
        "shape": [
         155,
         2
        ]
       },
       "compression_level": 0,
       "head_color": 255,
       "head_size": 20,
       "id": 140308815190448,
       "label_size": 1,
       "labels": [],
       "line_width": 0.01,
       "model_matrix": {
        "dtype": "float32",
        "shape": [
         4,
         4
        ]
       },
       "name": null,
       "origin_color": 255,
       "origins": {
        "dtype": "float32",
        "shape": [
         155,
         3
        ]
       },
       "type": "Vectors",
       "use_head": true,
       "vectors": {
        "dtype": "float32",
        "shape": [
         155,
         3
        ]
       },
       "visible": true
      }
     },
     "864542aca3f04fa2b03895fd7ee6bbce": {
      "buffers": [
       {
        "data": "eNoDAAAAAAE=",
        "encoding": "base64",
        "path": [
         "colors",
         "compressed_buffer"
        ]
       },
       {
        "data": "eNpjYGiwZ8AAxIsBAF7EAv0=",
        "encoding": "base64",
        "path": [
         "model_matrix",
         "compressed_buffer"
        ]
       },
       {
        "data": "eNpN0CFywzAQheEw41LfIKSzpSXWLgzuDUp6hxCzFoSEegp8imKphyiNWHyMjj2x3m/0RvO8K32n4/X3sH1f5Xb+bPn+fW75KT5afr2/tfx+8ZYvL88t//z1mNlhzlL0bynqTwW7cN6zk/d8aN92ntB3zHF0HHvRWRz3DMwJvCvw3oBDYFfALeDZ8ul4ZX6YGMwN5gZzg7nB3GBuMDeYG8wN5gZzg7nB3GBuMDeYG8wN5gZzg7nB3GBuMDeYG8wN5gZzg7nB3GBuMJ+zzOcs8znLfM4yn7PM5yzzOct8ndlhzm6+/luK+lPBLpz37OQ9y3w7T+g75jg6jr3oLI57BuYE3hV4b8AhsCvgFvBsWeZbfpiMg8zHQebjIPNxkPk4yHwcZD4OMl9ndpizm6//lqL+VLAL5z07ec8y384T+o45jo5jLzqL456BOYF3Bd4bcAjsCrgFPFuW+ZYfJjXJvCaZ1yTzmmRek8xrknlNMl9ndpizm6//lqL+VLAL5z07ec8y384T+o45jo5jLzqL456BOYF3Bd4bcAjsCrgFPFuWeU3/8njPnw==",
        "encoding": "base64",
        "path": [
         "positions",
         "compressed_buffer"
        ]
       }
      ],
      "model_module": "k3d",
      "model_module_version": "2.7.0",
      "model_name": "ObjectModel",
      "state": {
       "_view_count": null,
       "_view_module": null,
       "_view_module_version": "",
       "_view_name": null,
       "color": 10075135,
       "colors": {
        "dtype": "uint32",
        "shape": [
         0
        ]
       },
       "compression_level": 0,
       "id": 139825905101264,
       "mesh_detail": 2,
       "model_matrix": {
        "dtype": "float32",
        "shape": [
         4,
         4
        ]
       },
       "name": null,
       "opacity": 1,
       "point_size": 0.1,
       "positions": {
        "dtype": "float32",
        "shape": [
         155,
         3
        ]
       },
       "shader": "3dSpecular",
       "type": "Points",
       "visible": true
      }
     },
     "8700d5ddf36646beb0d75d00dfc2f90a": {
      "model_module": "@jupyter-widgets/base",
      "model_module_version": "1.2.0",
      "model_name": "LayoutModel",
      "state": {}
     },
     "87257ca5f51948d2bdcfb202f9a6e8b0": {
      "model_module": "@jupyter-widgets/base",
      "model_module_version": "1.2.0",
      "model_name": "LayoutModel",
      "state": {}
     },
     "885b798bd64f41218066e53edc3e5cfc": {
      "model_module": "@jupyter-widgets/base",
      "model_module_version": "1.2.0",
      "model_name": "LayoutModel",
      "state": {}
     },
     "923e66ea7dbc43788d3d384856ad87b3": {
      "model_module": "@jupyter-widgets/output",
      "model_module_version": "1.0.0",
      "model_name": "OutputModel",
      "state": {
       "layout": "IPY_MODEL_cac0c6f6e09f46db99459a00383cda4c",
       "outputs": [
        {
         "data": {
          "application/vnd.jupyter.widget-view+json": {
           "model_id": "67114895e8774470b13a8a90c1896b04",
           "version_major": 2,
           "version_minor": 0
          },
          "text/plain": "Plot(antialias=3, axes=['x', 'y', 'z'], axes_helper=1.0, background_color=16777215, camera=[4.5, 4.5, 4.5, 0.0…"
         },
         "metadata": {},
         "output_type": "display_data"
        }
       ]
      }
     },
     "930b099f42cc4e08ad4cbca06c92621d": {
      "model_module": "@jupyter-widgets/base",
      "model_module_version": "1.2.0",
      "model_name": "LayoutModel",
      "state": {}
     },
     "9c730c13d0224d258f252ddf61679938": {
      "model_module": "@jupyter-widgets/output",
      "model_module_version": "1.0.0",
      "model_name": "OutputModel",
      "state": {
       "layout": "IPY_MODEL_7ff6c6d8efa74c76a4cd45dfb71f0b1f",
       "outputs": [
        {
         "data": {
          "application/vnd.jupyter.widget-view+json": {
           "model_id": "2976e84a9bcd4b2e893988ac9d87f67a",
           "version_major": 2,
           "version_minor": 0
          },
          "text/plain": "Plot(antialias=3, axes=['x', 'y', 'z'], axes_helper=1.0, background_color=16777215, camera=[4.5, 4.5, 4.5, 0.0…"
         },
         "metadata": {},
         "output_type": "display_data"
        }
       ]
      }
     },
     "9edbcd4a13284d4594d28ea3777b9c7a": {
      "buffers": [
       {
        "data": "eNoDAAAAAAE=",
        "encoding": "base64",
        "path": [
         "colors",
         "compressed_buffer"
        ]
       },
       {
        "data": "eNpjYGiwZ8AAxIsBAF7EAv0=",
        "encoding": "base64",
        "path": [
         "model_matrix",
         "compressed_buffer"
        ]
       },
       {
        "data": "eNpN0CFywzAQheEw41LfIKSzpSXWLgzuDUp6hxCzFoSEegp8imKphyiNWHyMjj2x3m/0RvO8K32n4/X3sH1f5Xb+bPn+fW75KT5afr2/tfx+8ZYvL88t//z1mNlhzlL0bynqTwW7cN6zk/d8aN92ntB3zHF0HHvRWRz3DMwJvCvw3oBDYFfALeDZ8ul4ZX6YGMwN5gZzg7nB3GBuMDeYG8wN5gZzg7nB3GBuMDeYG8wN5gZzg7nB3GBuMDeYG8wN5gZzg7nB3GBuMJ+zzOcs8znLfM4yn7PM5yzzOct8ndlhzm6+/luK+lPBLpz37OQ9y3w7T+g75jg6jr3oLI57BuYE3hV4b8AhsCvgFvBsWeZbfpiMg8zHQebjIPNxkPk4yHwcZD4OMl9ndpizm6//lqL+VLAL5z07ec8y384T+o45jo5jLzqL456BOYF3Bd4bcAjsCrgFPFuW+ZYfJjXJvCaZ1yTzmmRek8xrknlNMl9ndpizm6//lqL+VLAL5z07ec8y384T+o45jo5jLzqL456BOYF3Bd4bcAjsCrgFPFuWeU3/8njPnw==",
        "encoding": "base64",
        "path": [
         "positions",
         "compressed_buffer"
        ]
       }
      ],
      "model_module": "k3d",
      "model_module_version": "2.7.0",
      "model_name": "ObjectModel",
      "state": {
       "_view_count": null,
       "_view_module": null,
       "_view_module_version": "",
       "_view_name": null,
       "color": 10075135,
       "colors": {
        "dtype": "uint32",
        "shape": [
         0
        ]
       },
       "compression_level": 0,
       "id": 140545345400976,
       "mesh_detail": 2,
       "model_matrix": {
        "dtype": "float32",
        "shape": [
         4,
         4
        ]
       },
       "name": null,
       "opacity": 1,
       "point_size": 0.1,
       "positions": {
        "dtype": "float32",
        "shape": [
         155,
         3
        ]
       },
       "shader": "3dSpecular",
       "type": "Points",
       "visible": true
      }
     },
     "9ff03a6c761d4e6a99039b13fc77e465": {
      "buffers": [
       {
        "data": "eNp1000rRGEYxnHWNpZWM2Y0XoZBsZAyRV4mURazYCPRLEgoEjKNpsa8ODMLofGWiGwsZG0lJd/AxsrCp1B03ed/Cs3it3h6znPf133OcxIvk1WJH+m7kOwd+aWUazCpJrPZYtZazUrELHRKcbZLnKkeyY9GJd0zJKuBmEzXDEu8elBYs8/znKce9enn9ScP+cjr5mce5ku48y4+jUnmNijOgV+8udONZrvZbITNaptZbjfznVKc6RYn3ivZgX7ZCo/IXK1hbtbs8zznqUd9rx/9yUM+8rr5mYf5mDd1H5b8uU+c/XopOkHx5s+EDHV3mkyy2fy9D0vtwncqjPfJeigmzM2afe+7uuf/fU/60Z885HPzkp95mI95eU/FUkD2Dv2m/FvhuIITkz/zSe7CL5mbgNBn4XlCOt7vJfT5JazZ53nOU4/69KuU529u5mE+715wf9z3xb0onPqEvrlLk70yu9f1wv3h/0k+RGTtsU9mX6cl+laWuo93YW7W7PM856lHffrRnzzkIy/5vf+W++DO+w1pr3yG",
        "encoding": "base64",
        "path": [
         "colors",
         "compressed_buffer"
        ]
       },
       {
        "data": "eNpjYGiwZ8AAxIsBAF7EAv0=",
        "encoding": "base64",
        "path": [
         "model_matrix",
         "compressed_buffer"
        ]
       },
       {
        "data": "eNodkHlwjWcUxjGxRQcjM0LUGlLSaMWSSk2d73ttg44RSUTJ3IotMkYZy7QVRSPEEiTRIEmNRhiKJnqjaqvzvW9SDBMRESJyE7dqq7VyI8p0eU7/PXPmeX7Pz0ndZg66ztKngzN1u4p1JnhlNT2JSdeVEV+Yqil19Lh6gy4om2Om/1NLi/as137zo0xM5xq6ErFON7YeaS5H3aBwStV+RaHG/+k1Svp8rSZXoPEVXKXzxSn6aGc/U3O/nOZWfq1bHPPqU9WXKPHEGn1u6mnd6+9S6r1hlQ7rk62HVZygp+4VOm26S38ypoCs2uU6ZniAbnb6Kwqat1g747Ocs5nt6XDeAp3hGea+7dsVnpuTJHcLd5Y7/m38s/wjx0YOSw7ybeSz5KPXRi9Lb/NjXvtk9SUWHnAqcLJwgl+Bn4UfuxR2sezCXoW9/P/e+VEKHlg8wI+CHxY/8KbgjcUbfCr4ZPHppG5T8MziuaxNpknIrKew1ZY+mpRmXCsayK/DB/pIerK5t7eJkgPCtYqcb4YOaqLdiwfqgLoYU3y2kUKD39VRa2zTLsxHo1IG6AHB75mkr19QWUh/XXk+yJSvf04NZSG6zWetTXTtE4oY3U/v6/9AH//tIXWKC9YZi7VO+/IOLbnYSycW5uo+y6qpRXR3vdlJ1GZLKfXd20VPDA7Srx/uoe5FnfSLnBzneMVIasp8S/ffmOz2RtmFuTlt5W7hznLHv41/ln/k2MhhyUG+jXyWfPTa6GXpBY8NHhYecCpwsnCCX4GfhR+7FHax7MJehb0se+FBwQOLB/hR8MPiB94UvLF4g08Fnyw+4VnBM4vnroVZxmq6SQl5x5wZHTeahJLb1PPSASfwySrz+HY97Q7Od4YfWWDGh9aRH+12trimmdibtZS/N9dZ1GaMSXlxixK+2+VE/hBuzoy7RQtrdzjLJvUw7d019H23bKf+kb95HlhDrQZudx61eqYj56CrJsOhPhf0mwXV5Lq2xWnolq+z8q7T/rSNzqvTS3Xp1QpSJ1Kc/mv7ateHhjrkLnQCsw845fXptPvQGOfQ/Up3Ynyke968ELlbV+rTWe74t/HP8o8cGzksOci3kc+Sj14bvSy94LHBw8IDTgVOFk7wK/Cz8GOXwi6WXdirsJdlLzwoeGDxAD8Kflj8wJuCNxZv8Kngk8UnPCt4ZvG8Lj/LjG3rJd/tn2hts40mv+oODV+9nlqWrTIP0r3UsSiRZmQuMF2X19M9nk77JkwzI96po4kL42jz69HGm+yhjr3iaEJBuCmyPHSheiqNGNvD+GI95O0QS/Pu+Bv/Qg/t2zqZSl881QGj6mjmrnEU5H9Be9/U0a/PIujf5vn6ZWw9xffsQkczluqV73so3XN65MdL+uqZva/Q4Aebfon98YCz6XwODV0/mXfeeeTe7xvjHjKkmHG3cGe549/GP4fjHzk2clhykG8jnyUfvTZ6WXrBY4OHhQecCpwsnOBX4Gfhxy6FXSy7sFdhL8teeFDwwOIBfhT8sPiBNwVvLN7gU8Eni094VvDM4vnY1Qxz69ED6j7hL2tUaJrJNY30atp961zHZOPya6KfSz3W1cuJpt+Ul/R2t5vWjbQYE13USDNvXLeORNqmYXgjqa1V1uzfB5q2xkfbVl+zCjYEmbQgHy35qNKqD2ltals2UNDSCmvNqvt6f+CflHfmsjVln6MvzH9CU1MvWj1LcrTzx13y3S2xIsrn6vC7VfTtqZNW0qwuuiS6mPLiD1s9Zu90sifF08G4PCtrx053WOKsQUOGbJe79c2keJY7/m38s/wPK59rI4clB/k28lny0Wujl6UXPDZ4WHjAqcDJwgl+BX4WfuxS2MWyC3sV9rLshQcFDywe4EfBD4sfeFPwxuINPhV8sviEZwXPLJ7/A1cWydY=",
        "encoding": "base64",
        "path": [
         "origins",
         "compressed_buffer"
        ]
       },
       {
        "data": "eNoV0HtUz3cYB3BtNte55NAUI8pthmkXWb/P8xyXYc0liaR+6djUz21GuUyMmXVyMD8NR5IzcTY6LtOW4ff7Pk8RjkxpsnRRP0suJbYyBwd7nn8/53Pez/v96jG2hH62G24I7IJuRyn1TY7ktD0bYcCG61Q61c7hDZFmrV8VRb2I5jXjj1lRf1TTtG5RfD90OM3389DlsBl8LmgxddhXQ20bp3GZt5P29rxBzVlTeVDKQcoNvU7ltyfzgrQCqsm7QqfKQrl/0x1KzzlHvZ+P4WarHRtnLr1/ZQQ7Ewbx7hWZNHNsX37eM4wHXlpKLU4/p6CiZI4oak2WcwtFOJ28teq34TXNbx5P37WLpxe1BnkHfZf/IP9B/0sOSA5qjuSD5KPmy12Qu6h3PXlX4GRZKGof6QnSE7Wn9Afpj9pfdoHsQt21wM8Dshd1rziAOKA6iA+ID6qPuIG4obqJJ4gnqmePsSUgzqjO9iYvK84Zy3FPXsWrK5xu+1dLObkmDnaXe7nr9i1ny93GPK7d5Hpv2HJ2lWVZPo5trhwriU+m+9Ev/fJc7QYn8o4Tk+lwcJ3LsW4JR/dbRcUBja6i7xZzae80KnNUucIrF3KWK5tq5xa6cm86uGLLReqz84YrZeUcro1sotpgf3efxEhuiu/Kjzasc+dvHsPVjSN517wc99O7vdg3ZR6fjst0516xqO/vm3lA6rPhnrC8IWqeH5dpk3fQ973zcmzyH/X/0w3rbJKDmlMf7G+TfNT8oTtvhMhd1LuNcwtDpA9qH4+jKkR6ovb8K6AxRPqj9s8JrguRXai7cvvlhche1L1+jm0h4oDq8Kx2U4j4oPrsKfeyiRuqW+kKp008UT1jm7yMOKM6j4vPB3w8k1tV7Ich5iLEnZnNVXOemPp2V6GhJpazLztttanlMGGQnXvBMOvO1SqIuB7Nt7OzLc8r1fDNv7O4uqneeqv+BrjGzeJBwd605kEVdDgexUljh1Djywp46BPFGUMn0qjdZRD82UxunrmEVp0ugWfzI9k7xkmnfroA23ZP58r8HFqdeQLOloTxA9s9GnA+HewjR7GnMIC714VCUXV7PncokQ/dDg+Kjz45XM196kKpuLo96rv8J/mP+j858wRJDmqO5JPko+bLXZK7qHelD0kf1D7Sk6Qnak/pT9Iftb/sItmFukv2kuxF3SsOJA6oDuJD4oPqI24kbqhu4kniieopziTOqM6Lerrg4zZxXLx+Bt0Ly4cfS+ew1+0i95xWl+DOpjj+NmWUOVzyJ3RPiuX4FtvNyvIy+Ki/nUs/2WduplaAZ1UM09dZZt0XlXAUY7g6Y7+xeSqgOSKGkznbFHuuQ9sjMby4wG0Su12DLqPtvDbTY67mFoHnmZ2X9faGQEcB/BcRyxPyJsOju79C8tAYHtl5H8w/uQtm+0/h9Uda4z8HJ8LG893Zd3QC7vx7ftCB5gI1xwcHJ5K8o77Lf5L/qP8lhyQHNSfAUUCSj+MlX+6S3EW9u7TbNZI+qH2kJ0lP1J7Sn6Q/an/ZRbILdZfsJdmLulccSBxQHcSHxAfVR9xI3FDdxJPEE9VTnEmcUZ1p8GGroj6BG6ZcpJYfZlnp+Un8eq966wP/TZa95XKeXtLBeK+eawVOXcYrMypNw1ljhR9N4hep3rB9UaDVNCKJ6/z6g3+4r9UmP5E7tRoBENjDSvFN5DsDPoV3Xg60Kl9bylGXE6Dj1tHWAZ8v+W2/jbCyc4J1IWEhh1Vlw5TCVIvvfc6xxTXAuRnWu7ci+Puu3fGNLnusM+FBnLZ5Ktbfira2T6qkY1NScdsOn6DB8TePqfnDW9Hmh0mVoO8du+wx8h/1f35uhpEc1JywwlQj+aj5qzonGLmLerfT1tFG+qD2GfJyoJGeqD0xsIeR/qj9+4T7GtmFumvHokAje1H33j9rjDigOoiPER9UH3Ez4obqJp5GPFE9xdmIM6rz/87dvbA=",
        "encoding": "base64",
        "path": [
         "vectors",
         "compressed_buffer"
        ]
       }
      ],
      "model_module": "k3d",
      "model_module_version": "2.7.0",
      "model_name": "ObjectModel",
      "state": {
       "_view_count": null,
       "_view_module": null,
       "_view_module_version": "",
       "_view_name": null,
       "colors": {
        "dtype": "uint32",
        "shape": [
         155,
         2
        ]
       },
       "compression_level": 0,
       "head_color": 255,
       "head_size": 20,
       "id": 140708890345232,
       "label_size": 1,
       "labels": [],
       "line_width": 0.01,
       "model_matrix": {
        "dtype": "float32",
        "shape": [
         4,
         4
        ]
       },
       "name": null,
       "origin_color": 255,
       "origins": {
        "dtype": "float32",
        "shape": [
         155,
         3
        ]
       },
       "type": "Vectors",
       "use_head": true,
       "vectors": {
        "dtype": "float32",
        "shape": [
         155,
         3
        ]
       },
       "visible": true
      }
     },
     "a05ac14fc17e443e9ce7935205f2b513": {
      "model_module": "@jupyter-widgets/base",
      "model_module_version": "1.2.0",
      "model_name": "LayoutModel",
      "state": {}
     },
     "aabedf4b4d884dbd97d50217b5705a48": {
      "buffers": [
       {
        "data": "eNp1070vQ1EcxnH+CYlE9EVbFWoQNGIxVJgMDYlg7MDiLTFoWk1RbfXeGsQgkXgJCYNBJUxiklhYLBZhIB39BRLynPu9iSYdPsPJuef8nqf31poYaLD+lFc6xS75ZXvfI/kTY/PcL9nLkKxddcnqTa8s3w3J3ENcJp/nZeh1T3wfD9Ly9S3B6o+wZp/nOc993M885pOHfOQlP33oZzl97Zl+KSc7xLb9wrnCkZE788nGRZtkL9slXYnI6m2fLN7HJPE4JWMvGYm8VaT5syr0Zs0+z3Oe+7ifecwnD/nI6/Z2+rj96LsUMTaDYu/4pLTnEc4XD1qlcOiR/LGxdeqV2u8hdd0tvKfppzkJvd8JvVmzz/Ocr32fzGM+echHXvLTh3705Xeydr1iW34pF9v+K9SRDxi5oLEeMlJhw5ljTUUl2TUi440xYc2++x44z33cz7x6eWpy04d+9OX74fdyv4utgMHcrCPTbqTDhvP98P8pL3QbiR4pxQclGx2W2aZRoTdr9nme8+593M885pOHfOR18tOHfvT9BRcQlYI=",
        "encoding": "base64",
        "path": [
         "colors",
         "compressed_buffer"
        ]
       },
       {
        "data": "eNpjYGiwZ8AAxIsBAF7EAv0=",
        "encoding": "base64",
        "path": [
         "model_matrix",
         "compressed_buffer"
        ]
       },
       {
        "data": "eNoVlH1Uz2cYxs1yJNOYlyzH+wzpmF4Ycrq/36dDJ/OyomEUDrM22zo2trw0NseSUkqGMu/GMI7QbKb7+zwcb5PKEUn18/MeaVHJobHr/vc597muz/X54ykpyDR7YvM5LCdR576bbHovKeX2+5brpuZLTUlUJXfom6SX5s01H78s54wZyTp+zmQzsVMZDzq3She3HWkuRl7lQidFdzwSYLxqLvP6lanaf3w3U7/jEg8bs1p7u71M2b1CzvFP0z2KavSfpf/wxvB03cyc0T3+O8X/Hl+jrZStenDxMU7+NVNn9/9aTxm5g2+0W6d9FvTSzY4nct2F9XrfrB1OfoY3DwjM1vGvOgXuOLQiMCgoR94tvJO8497GPck9cmzkkOQg30Y+ST56bfSS9ILHBg8JDzgVOEk4wa/AT8KPXQq7SHZhr8Jekr3woOCBxAP8KPgh8QNvCt5IvMGngk8SnyUFmQqeSTyficgwMzNcfHlZd+2dlmRiF9VxU20/3fv3xebu9kZeUT1Qu0bHmeBBjTwrPVDPqJ1oDuc38JXyYP3tBtu09q/nE4lDdC0NNJ/98ISDrr2vN9zxNYU/1XKbwGE6L7mlmVD+iM8fH64Tp97XeTeruGbPCD1kj9ZJC29x2mDSHq+yda/5pfxyv9I/n4zTZvUpLo8J1z1WddHPq7bwrQ/H6oXtNzl5xaHc6qsJul/OoIBOy03gnDkfybv1R3EoyTvubdyT3CPHRg5JDvJt5JPko9dGL0kveGzwkPCAU4GThBP8Cvwk/NilsItkF/Yq7CXZCw8KHkg8wI+CHxI/8KbgjcQbfCr4JPEJzwqeSTwv2ZlurMZrvGV2ijPr3goz8+QNdgdvcI6NSTDVN1w8q3yzU3V1tonwq+QmZ7tzNz7SRF8r5+kxu5zJbUPNj0+u85bpu50bR/3M3+HXeW3v35xnsT7GO7eMJ93e67hae5hanzJ+fmm/MyTRrYfNRlefg07S07/0i7mlvH1ArpOQkaUzc67w1IQ8p//ZafrUpWLODz/hhPm107HDDT8LPOdM7JzmFLpSOdevwlk2NCq3bV//oIIL1fJuFblS6RDecW/jnuQeOTZySHKQbyOfJB+9NnpJesFjg4eEB5wKnCSc4FfgJ+HHLoVdJLuwV2EvyV54UPBA4gF+FPyQ+IE3BW8k3uBTwSeJT3hW8Ezi+c1D6WZUKzd3Du1AIY0rzLaSW7zmtW/o/BcJ5n6qmxP6pdLpJ7PN2wtc3GZrJhUtjzQhfSt5akQWjegWatyLK/hZfBZdZD9z0KrgTWuzKOBTH1MfXcFtE9bR5A4exutABR84tp5iMty6fVglFwVtov3ex7X7RSV3XbmTvtyXpZ9Guziq9jDNq5uml7xXwb94FlP3kHZ6Rs8iVpM8LJ+m1c6qMxt5dc9gK6VNTO5ZRUHZG6fIu5VyZiPJO+5t3JONe+TYyCHJQb6NfJJ89NroJekFjw0eEh5wKnCScIJfgZ+EH7sUdpHswl6FvSR74UHBA4kH+FHwQ+IH3hS8kXiDTwWfJD7hWcEziWf30gxz/eF9vnX0tLWoIMlkmwb23F1qefZfYmI9Gjki5KY1/mic6RP1lG/fvmttGhVtJhxs4K39qixfl23qhjZw/rwHVt73A00rU8/zlj20zr7TxST51nOaqbZcRS1NeYs6vptaY21rUaV3+TzmT8IeWwvmG3027hHvXdxgjXmQo50Hd/gN3yar+sjnOuBOCef2et1u/kFXfXLCYc6N9LLHjt7sZI2bxv4T37I9X24I+K5jFf6WTvJurRs3jeQd9zbuSe6RYyOHJAf5NvJJ8tFro5ekFzw2eEh4wKnAScIJfgV+En7sUthFsgt7FfaS7IUHBQ8kHuBHwQ+JH3hT8EbiDT4VfJL4hGcFzySe/wdLJtbc",
        "encoding": "base64",
        "path": [
         "origins",
         "compressed_buffer"
        ]
       },
       {
        "data": "eNodkHt0z3UYx1MJkZhDbSPEXFZHRRfTft/nOZNuCrOmbW2/taPYrwtiS1hF0s5E9SM6ZtbJdErrIutM6vf7PI+Vy6GMZZ2xm5/DjDGdposc9H78+5z3eT+v96v/hBr63O/xmbg+Gg7U0pCCNF69YbmMWHaYaqf6OeVMmlsc20gZlzP5jUe3eBm/NtNT/TL47MTR9FJshPYnP827xsyhnhuP0o3tT3FdVJA+HtBE58umcnzhZqqceJiOnJzML63eSZEdB2l73UQe3tFKxRW7aNClh/i8685esJLuOziWg7nxvP61UkqfMIQvDUjmkb/Mo2t+vERjqgs4tborueB7lBoM8uwra7eWfdu5onjdOp5W3VVwF7sjL8iL5dEj6FHrQb+gX60ffwV/1f6CR8CjxgNOAacaJ/gF/Gr82CXYpbYLewV71fbCg8CDmgf4EfhR8wNvAm9q3uBT4FPNZ/8JNQLPap6zOzp5OcFszrlwnR56LejzL5zHBUdzpORIJ1/Lxvnswt3cv8dXJN5793wO1ZV50YFViRUun7cXx1LFsB2J3e/M47XbJtOWhJbEwJK5nDlsEdUMbU+sfmcO1w5aTQ2BxsSUhpe5LFROrTP2JVYeC3D9e3tp5EdNiYULpvPxtA46mTDYd3teGnfM7Mv/Llviq1r5EDe3j+OSFyp8/50ayDGFL7DLKfVVHnQ05PuVPGL9lm/7LU266lxySsPbDjqxO/Jh5NXy6AmjR60H/WH0q/XHf9QUwl+1v6dm7AuBR42nKdAYAqca529D20PgV+PfmtASwi61Xdgbwl61vTGBVSF4UPNw4fiKEPyo+YG3MLypeYPPMHyq+YRnB89qnh+ZWSX8Tzp3qd8ko7y9kvPTs9w4/YJr635IzhzN5vL9wfDxoiPyWLyfB9LdXuuhRkk9nMkny8u9yLXN8tafz3BzR5t3W1uThB55huMTouiNc43Sc2sG508YRe1X6uWPWzK45K4nKWl9nSQ8l87n0+fSoh9r5OKLaRyVFaQfPtsjq9ZP44aqCnq9dJv8XJPM53ynacTuYvGPS+Jj+4byrS0Tpbq5B+/6Io8Xj60Z3Wv4l1ed404Hmnuo3ZEn5DWCPHoIPWo96Cf0q/XjL+Gv2l/wEHjUeMBJ4FTjBD+BX40fuwi71HZhL2Gv2l54IHhQ8wA/BD96G/zAG8Gbmjf4JPhU8wnPBM9qnmcNCMnD3XL4wNKn6XRylXxSO507naz2Te/yi7SuyOG3C5PcVzW/SXR+Ns+8Zo1bcKROHhzu59rHN7pjRfUSWZTF8maZWzK7Qb7hLG4u2eR8kXo5n5rFBVruDkQOy41fZ/GcnWGX1+936TPez4tLI+5QZbVELvr51UFREhfYKX+nZvNjOybLX6e+k4K7snhc743y4vZ18uzgKbz06676x+YnZfnuaI4Zn6vv3tQ4ek+SmHO707u7o9XuyBPyann0EHrUetBP6NdH0Y+/hL+aj7/gIfCo8YCTwKnGCX4Cvxo/dhF2qe3CXsJetb3wQPCg5gF+CH7U/MAbwZuaN/gk+FTzCc8Ez2qe5c6vvPq2XD4zZS9d/0CZV1yVzzcMbPPuH7zC818/n6fV9HRRr8/w4qa+ygtKGtzZnz0v5Zt8vlwUJWtnxXkdY/O5JXa4DE6J8bpV5XGvLmOF4vp7hTF53DriCRl1ZaTX0HkeZ+zPlZs/GO99essrfEfsclnYO9fbk/syJzeWS/K+Ik9PP8/ZB47KjsoS754Tqfx+32jt2WeD91PKGF69cqqePZHpfTipgbZMKdKul2/dOr9v4Krz9hOZbs2kBrE78g55tTx6HHrUetDv0K/Wj78Of9X+gseBR40HnA6cmg5O8Dvwq/Fjl8MutV3Y67BXbS88OHhQ8wA/Dn7U/MCbgzc1b/Dp4FPNJzw7eFbz/D8q0bai",
        "encoding": "base64",
        "path": [
         "vectors",
         "compressed_buffer"
        ]
       }
      ],
      "model_module": "k3d",
      "model_module_version": "2.7.0",
      "model_name": "ObjectModel",
      "state": {
       "_view_count": null,
       "_view_module": null,
       "_view_module_version": "",
       "_view_name": null,
       "colors": {
        "dtype": "uint32",
        "shape": [
         155,
         2
        ]
       },
       "compression_level": 0,
       "head_color": 255,
       "head_size": 20,
       "id": 140308279487736,
       "label_size": 1,
       "labels": [],
       "line_width": 0.01,
       "model_matrix": {
        "dtype": "float32",
        "shape": [
         4,
         4
        ]
       },
       "name": null,
       "origin_color": 255,
       "origins": {
        "dtype": "float32",
        "shape": [
         155,
         3
        ]
       },
       "type": "Vectors",
       "use_head": true,
       "vectors": {
        "dtype": "float32",
        "shape": [
         155,
         3
        ]
       },
       "visible": true
      }
     },
     "b1f1c788d8954387a8f62e276ad079f0": {
      "model_module": "@jupyter-widgets/base",
      "model_module_version": "1.2.0",
      "model_name": "LayoutModel",
      "state": {}
     },
     "b87dd9ab870c4b6e8a4ac4760c6a69c5": {
      "model_module": "@jupyter-widgets/output",
      "model_module_version": "1.0.0",
      "model_name": "OutputModel",
      "state": {
       "layout": "IPY_MODEL_13868711a3524f53ae9c80fdd237d0fc",
       "outputs": [
        {
         "data": {
          "application/vnd.jupyter.widget-view+json": {
           "model_id": "6f196d0f2abd43f3bc723869d3e19750",
           "version_major": 2,
           "version_minor": 0
          },
          "text/plain": "Plot(antialias=3, axes=['x', 'y', 'z'], axes_helper=1.0, background_color=16777215, camera=[4.5, 4.5, 4.5, 0.0…"
         },
         "metadata": {},
         "output_type": "display_data"
        }
       ]
      }
     },
     "bb0f43f9958e4a6082d3930e9e236d48": {
      "buffers": [
       {
        "data": "eNoDAAAAAAE=",
        "encoding": "base64",
        "path": [
         "colors",
         "compressed_buffer"
        ]
       },
       {
        "data": "eNpjYGiwZ8AAxIsBAF7EAv0=",
        "encoding": "base64",
        "path": [
         "model_matrix",
         "compressed_buffer"
        ]
       },
       {
        "data": "eNpN0CFywzAQheEw41LfIKSzpSXWLgzuDUp6hxCzFoSEegp8imKphyiNWHyMjj2x3m/0RvO8K32n4/X3sH1f5Xb+bPn+fW75KT5afr2/tfx+8ZYvL88t//z1mNlhzlL0bynqTwW7cN6zk/d8aN92ntB3zHF0HHvRWRz3DMwJvCvw3oBDYFfALeDZ8ul4ZX6YGMwN5gZzg7nB3GBuMDeYG8wN5gZzg7nB3GBuMDeYG8wN5gZzg7nB3GBuMDeYG8wN5gZzg7nB3GBuMJ+zzOcs8znLfM4yn7PM5yzzOct8ndlhzm6+/luK+lPBLpz37OQ9y3w7T+g75jg6jr3oLI57BuYE3hV4b8AhsCvgFvBsWeZbfpiMg8zHQebjIPNxkPk4yHwcZD4OMl9ndpizm6//lqL+VLAL5z07ec8y384T+o45jo5jLzqL456BOYF3Bd4bcAjsCrgFPFuW+ZYfJjXJvCaZ1yTzmmRek8xrknlNMl9ndpizm6//lqL+VLAL5z07ec8y384T+o45jo5jLzqL456BOYF3Bd4bcAjsCrgFPFuWeU3/8njPnw==",
        "encoding": "base64",
        "path": [
         "positions",
         "compressed_buffer"
        ]
       }
      ],
      "model_module": "k3d",
      "model_module_version": "2.7.0",
      "model_name": "ObjectModel",
      "state": {
       "_view_count": null,
       "_view_module": null,
       "_view_module_version": "",
       "_view_name": null,
       "color": 10075135,
       "colors": {
        "dtype": "uint32",
        "shape": [
         0
        ]
       },
       "compression_level": 0,
       "id": 140308279048680,
       "mesh_detail": 2,
       "model_matrix": {
        "dtype": "float32",
        "shape": [
         4,
         4
        ]
       },
       "name": null,
       "opacity": 1,
       "point_size": 0.1,
       "positions": {
        "dtype": "float32",
        "shape": [
         155,
         3
        ]
       },
       "shader": "3dSpecular",
       "type": "Points",
       "visible": true
      }
     },
     "c22d1ebc183f4daab4a3516ab7cdc789": {
      "model_module": "k3d",
      "model_module_version": "2.7.0",
      "model_name": "PlotModel",
      "state": {
       "_backend_version": "2.7.0",
       "_dom_classes": [],
       "_view_count": null,
       "antialias": 3,
       "axes": [
        "x",
        "y",
        "z"
       ],
       "axes_helper": 1,
       "background_color": 16777215,
       "camera": [
        125.00246642376064,
        -187.51288673795878,
        7.500817130352246,
        -0.00571441650390625,
        -0.0006154775619506836,
        -5.000000953674316,
        0,
        0,
        1
       ],
       "camera_auto_fit": true,
       "camera_fov": 60,
       "camera_no_pan": false,
       "camera_no_rotate": false,
       "camera_no_zoom": false,
       "clipping_planes": [],
       "colorbar_object_id": -1,
       "fps_meter": false,
       "grid": [
        -1,
        -1,
        -1,
        1,
        1,
        1
       ],
       "grid_auto_fit": true,
       "grid_visible": true,
       "height": 512,
       "layout": "IPY_MODEL_11575824c817443aa89930901ddb1ebb",
       "lighting": 1.5,
       "menu_visibility": true,
       "name": null,
       "object_ids": [
        140545837147088,
        140545345400976
       ],
       "rendering_steps": 1,
       "screenshot": "",
       "screenshot_scale": 2,
       "time": 0,
       "voxel_paint_color": 0
      }
     },
     "c2aea23c3c0a4b94b16411417b7ce878": {
      "model_module": "k3d",
      "model_module_version": "2.7.0",
      "model_name": "PlotModel",
      "state": {
       "_backend_version": "2.7.0",
       "_dom_classes": [],
       "_view_count": null,
       "antialias": 3,
       "axes": [
        "x",
        "y",
        "z"
       ],
       "axes_helper": 1,
       "background_color": 16777215,
       "camera": [
        32.577655812664545,
        -76.79089716469329,
        1.1038185974772574,
        -0.00571441650390625,
        -0.0006154775619506836,
        -5.000000953674316,
        -0.019570877991813472,
        0.010837381680188572,
        0.9997497346300962
       ],
       "camera_auto_fit": true,
       "camera_fov": 60,
       "camera_no_pan": false,
       "camera_no_rotate": false,
       "camera_no_zoom": false,
       "clipping_planes": [],
       "colorbar_object_id": -1,
       "fps_meter": false,
       "grid": [
        -1,
        -1,
        -1,
        1,
        1,
        1
       ],
       "grid_auto_fit": true,
       "grid_visible": true,
       "height": 512,
       "layout": "IPY_MODEL_87257ca5f51948d2bdcfb202f9a6e8b0",
       "lighting": 1.5,
       "menu_visibility": true,
       "name": null,
       "object_ids": [
        140656678833744,
        140656678882512
       ],
       "rendering_steps": 1,
       "screenshot": "",
       "screenshot_scale": 2,
       "time": 0,
       "voxel_paint_color": 0
      }
     },
     "ca6f6210519d4178b5fb0681680e1176": {
      "buffers": [
       {
        "data": "eNoDAAAAAAE=",
        "encoding": "base64",
        "path": [
         "colors",
         "compressed_buffer"
        ]
       },
       {
        "data": "eNpjYGiwZ8AAxIsBAF7EAv0=",
        "encoding": "base64",
        "path": [
         "model_matrix",
         "compressed_buffer"
        ]
       },
       {
        "data": "eNpN0CFywzAQheEw41LfIKSzpSXWLgzuDUp6hxCzFoSEegp8imKphyiNWHyMjj2x3m/0RvO8K32n4/X3sH1f5Xb+bPn+fW75KT5afr2/tfx+8ZYvL88t//z1mNlhzlL0bynqTwW7cN6zk/d8aN92ntB3zHF0HHvRWRz3DMwJvCvw3oBDYFfALeDZ8ul4ZX6YGMwN5gZzg7nB3GBuMDeYG8wN5gZzg7nB3GBuMDeYG8wN5gZzg7nB3GBuMDeYG8wN5gZzg7nB3GBuMJ+zzOcs8znLfM4yn7PM5yzzOct8ndlhzm6+/luK+lPBLpz37OQ9y3w7T+g75jg6jr3oLI57BuYE3hV4b8AhsCvgFvBsWeZbfpiMg8zHQebjIPNxkPk4yHwcZD4OMl9ndpizm6//lqL+VLAL5z07ec8y384T+o45jo5jLzqL456BOYF3Bd4bcAjsCrgFPFuW+ZYfJjXJvCaZ1yTzmmRek8xrknlNMl9ndpizm6//lqL+VLAL5z07ec8y384T+o45jo5jLzqL456BOYF3Bd4bcAjsCrgFPFuWeU3/8njPnw==",
        "encoding": "base64",
        "path": [
         "positions",
         "compressed_buffer"
        ]
       }
      ],
      "model_module": "k3d",
      "model_module_version": "2.7.0",
      "model_name": "ObjectModel",
      "state": {
       "_view_count": null,
       "_view_module": null,
       "_view_module_version": "",
       "_view_name": null,
       "color": 10075135,
       "colors": {
        "dtype": "uint32",
        "shape": [
         0
        ]
       },
       "compression_level": 0,
       "id": 140708899090960,
       "mesh_detail": 2,
       "model_matrix": {
        "dtype": "float32",
        "shape": [
         4,
         4
        ]
       },
       "name": null,
       "opacity": 1,
       "point_size": 0.1,
       "positions": {
        "dtype": "float32",
        "shape": [
         155,
         3
        ]
       },
       "shader": "3dSpecular",
       "type": "Points",
       "visible": true
      }
     },
     "cac0c6f6e09f46db99459a00383cda4c": {
      "model_module": "@jupyter-widgets/base",
      "model_module_version": "1.2.0",
      "model_name": "LayoutModel",
      "state": {}
     },
     "cd9e3ef2c683487aa04e3fafcd8e99bb": {
      "model_module": "k3d",
      "model_module_version": "2.7.0",
      "model_name": "PlotModel",
      "state": {
       "_backend_version": "2.7.0",
       "_dom_classes": [],
       "_view_count": null,
       "antialias": 3,
       "axes": [
        "x",
        "y",
        "z"
       ],
       "axes_helper": 1,
       "background_color": 16777215,
       "camera": [
        47.07231738463123,
        -70.57682422243181,
        -0.29483735333374117,
        0.02069091796875,
        0.0006154775619506836,
        -5,
        0,
        0,
        1
       ],
       "camera_auto_fit": true,
       "camera_fov": 60,
       "camera_no_pan": false,
       "camera_no_rotate": false,
       "camera_no_zoom": false,
       "clipping_planes": [],
       "colorbar_object_id": -1,
       "fps_meter": false,
       "grid": [
        -1,
        -1,
        -1,
        1,
        1,
        1
       ],
       "grid_auto_fit": true,
       "grid_visible": true,
       "height": 512,
       "layout": "IPY_MODEL_2e6f8cc7b48144209e28bac7b8def83c",
       "lighting": 1.5,
       "menu_visibility": true,
       "name": null,
       "object_ids": [
        140308279487736,
        140308279486112
       ],
       "rendering_steps": 1,
       "screenshot": "",
       "screenshot_scale": 2,
       "time": 0,
       "voxel_paint_color": 0
      }
     },
     "d2c361cddf594994a10d23e63ccfd633": {
      "buffers": [
       {
        "data": "eNoDAAAAAAE=",
        "encoding": "base64",
        "path": [
         "colors",
         "compressed_buffer"
        ]
       },
       {
        "data": "eNpjYGiwZ8AAxIsBAF7EAv0=",
        "encoding": "base64",
        "path": [
         "model_matrix",
         "compressed_buffer"
        ]
       },
       {
        "data": "eNpN0CFywzAQheEw41LfIKSzpSXWLgzuDUp6hxCzFoSEegp8imKphyiNWHyMjj2x3m/0RvO8K32n4/X3sH1f5Xb+bPn+fW75KT5afr2/tfx+8ZYvL88t//z1mNlhzlL0bynqTwW7cN6zk/d8aN92ntB3zHF0HHvRWRz3DMwJvCvw3oBDYFfALeDZ8ul4ZX6YGMwN5gZzg7nB3GBuMDeYG8wN5gZzg7nB3GBuMDeYG8wN5gZzg7nB3GBuMDeYG8wN5gZzg7nB3GBuMJ+zzOcs8znLfM4yn7PM5yzzOct8ndlhzm6+/luK+lPBLpz37OQ9y3w7T+g75jg6jr3oLI57BuYE3hV4b8AhsCvgFvBsWeZbfpiMg8zHQebjIPNxkPk4yHwcZD4OMl9ndpizm6//lqL+VLAL5z07ec8y384T+o45jo5jLzqL456BOYF3Bd4bcAjsCrgFPFuW+ZYfJjXJvCaZ1yTzmmRek8xrknlNMl9ndpizm6//lqL+VLAL5z07ec8y384T+o45jo5jLzqL456BOYF3Bd4bcAjsCrgFPFuWeU3/8njPnw==",
        "encoding": "base64",
        "path": [
         "positions",
         "compressed_buffer"
        ]
       }
      ],
      "model_module": "k3d",
      "model_module_version": "2.7.0",
      "model_name": "ObjectModel",
      "state": {
       "_view_count": null,
       "_view_module": null,
       "_view_module_version": "",
       "_view_name": null,
       "color": 10075135,
       "colors": {
        "dtype": "uint32",
        "shape": [
         0
        ]
       },
       "compression_level": 0,
       "id": 140545515176784,
       "mesh_detail": 2,
       "model_matrix": {
        "dtype": "float32",
        "shape": [
         4,
         4
        ]
       },
       "name": null,
       "opacity": 1,
       "point_size": 0.1,
       "positions": {
        "dtype": "float32",
        "shape": [
         155,
         3
        ]
       },
       "shader": "3dSpecular",
       "type": "Points",
       "visible": true
      }
     },
     "d56a5c9fc5614e3d9bcb436342ad4152": {
      "model_module": "@jupyter-widgets/base",
      "model_module_version": "1.2.0",
      "model_name": "LayoutModel",
      "state": {}
     },
     "dc34ad6e28564478a157f8845c0ae202": {
      "buffers": [
       {
        "data": "eNp1070vQ1EcxnH+CYlE9EVbFWoQNGIxVJgMDYlg7MDiLTFoWk1RbfXeGsQgkXgJCYNBJUxiklhYLBZhIB39BRLynPu9iSYdPsPJuef8nqf31poYaLD+lFc6xS75ZXvfI/kTY/PcL9nLkKxddcnqTa8s3w3J3ENcJp/nZeh1T3wfD9Ly9S3B6o+wZp/nOc993M885pOHfOQlP33oZzl97Zl+KSc7xLb9wrnCkZE788nGRZtkL9slXYnI6m2fLN7HJPE4JWMvGYm8VaT5syr0Zs0+z3Oe+7ifecwnD/nI6/Z2+rj96LsUMTaDYu/4pLTnEc4XD1qlcOiR/LGxdeqV2u8hdd0tvKfppzkJvd8JvVmzz/Ocr32fzGM+echHXvLTh3705Xeydr1iW34pF9v+K9SRDxi5oLEeMlJhw5ljTUUl2TUi440xYc2++x44z33cz7x6eWpy04d+9OX74fdyv4utgMHcrCPTbqTDhvP98P8pL3QbiR4pxQclGx2W2aZRoTdr9nme8+593M885pOHfOR18tOHfvT9BRcQlYI=",
        "encoding": "base64",
        "path": [
         "colors",
         "compressed_buffer"
        ]
       },
       {
        "data": "eNpjYGiwZ8AAxIsBAF7EAv0=",
        "encoding": "base64",
        "path": [
         "model_matrix",
         "compressed_buffer"
        ]
       },
       {
        "data": "eNoVlHtUz2ccx40ct2luk3Hc55ZmCBs5fb7fx6XDXJbLMAlHszbbzIYT1dh2LNFFyaLM3RjG8Ytmmj7f5+G4X6ojQvXzIxFpUcmhsffn3+d8zvv9er/+ePIvJZu9odk8Ij1au3rGmu5RBdx6/8+6rv4Kkz+pmNv0itErMheYT18VctKcWL1w/nQzpe1N7n9ujc5tMcpcDr7OV5y1+u0jA0zTiqucujpO+03sZKp35vHQcfHa29PU3Lx/hdP9EnSXnAr9d8EF3hSUqOuZM7rLf6f436x12lq7TQ/OPcaxvyfrtD7f6RmjdvLtlhu0z5Juul5WNFddTNX75+10spO8ue/ANP3eiieuZ/tKDvv7p8u7hXeSd9zbuCe5R46NHJIc5NvIJ8lHr41ekl7w2McLLpDwgFOBk4QT/Ar8JPzYpbCLZBf2Kuwl2QsPCh5IPMCPgh8SP/Cm4I3EG3wq+CTxmX8pWcEzieczY5LM3CQ3X13ZWXsnxJjQ5VVcV9lbd/8z0pTuqOVV5f20e2y4GdS/luclDtRzKqeYjOwavlY4SC/daJtmftV8InqIrqR+5osfn7L/jQ/0xnvtzZVfKrn5wKE6M7aRmVz4mM9nDdPRMx/ozDtlXLF3uB6yV+uYZXc5YTBpr9dputviAn51QOnUk+HaxJ/iwllBusuaDvpF2Va++/F4vaz1Zuev3EBu8s1kPan+a9ec4CzX/PmfyLuVmRtI8o57G/ck97+eDLeRQ5KDfBv5JPnotdFL0gseGzwkPOBU4CThBL8CPwk/dinsItmFvQp7SfbCg4IHEg/wo+CHxA+8KXgj8QafCj5JfMKzgmcSz1G7Eo1Ve4O3hq115t1fZeaevM2eQRudY+MiTPltN88r3OKUXQ8zY3yLuc7Z4ZQuDDZTbxTy7Fm7nektAs1PT2/x1tl7nNtHfc0/Qbd4ffc/nOehPsbbdZOnlexz3M28TKXPTX6Rd8AZEu3RQ8PQ1eOQE/PsuH65oIB39HU5EUkpOjn9Gs+MyHT6nA3Rp/JyOTvohDPCt6UOHWb4+cBzzpR2CU6OO44P+xY5F5NaZXQOjsy4dLFc3q0r7jhy4R33Nu5J7pFjI4ckB/k28kny0Wujl6QXPDZ4SHjAqcBJwgl+BX4SfuxS2EWyC3sV9pLshQcFDyQe4EfBD4kfeFPwRuINPhV8kviEZwXPJJ7fOpxoRjfxcLvANhRQu8psz7/L6974ns5/FWEexHk4onccnX4aZt5Z4ubm25Ip5+dgE9CrmGeOSaHhnQKNJ7KIny9Mocvsaw5ZRbx5fQoN+NzHVE8t4hYRG2h6Gy/T9GARHzyWSrOSPLr1iGLO8d9MB7yztOdlMXdcvYu+3p+in01186TKDFpUFaKj3i/i3xrnUueAlnpO1xy2p3lZPnXxztozmzi+6yDLHtkzI96JzUjbNEPerTVnNpG8496e3TWHFO6RYyOHJAf5NvJJ8tFro5ekFzw2eEh4wKnAScIJfgV+En7sUthFsgt7FfaS7IUHBQ8kHuBHwQ+JH3hT8EbiDT4VfJL4hGcFzySePSuSzK1HD/ju0dPW8ksxJs3UcOM9BVbjPlEm1KuWxwTcsSYeDTc9Jj3jkpJSa/PoqWbyoRre1rvMau+2TdWHNZy96KGV+UM/08RU86KVj6yz73YwMe2rOcGUW+6cRqawYRWXxlVY2xuW6d0+T/izEU+sJYuNPhv+mPdF1ljjHqZr5+E9frN9nVV+5Es94F4+u7o1sOt/1FGfnJzBruCm9vixW5wNE0LYb0oru8HIzhnfLs3D39JW3q2UCSEk77i3cU9yjxwbOSQ5yLeRT5KPXhu9JL3gscFDwgNOBU4STvAr8JPwY5fCLpJd2Kuwl2QvPCh4IPEAPwp+SPzAm4I3Em/wqeCTxCc8K3gm8fw/GwvcUQ==",
        "encoding": "base64",
        "path": [
         "origins",
         "compressed_buffer"
        ]
       },
       {
        "data": "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",
        "encoding": "base64",
        "path": [
         "vectors",
         "compressed_buffer"
        ]
       }
      ],
      "model_module": "k3d",
      "model_module_version": "2.7.0",
      "model_name": "ObjectModel",
      "state": {
       "_view_count": null,
       "_view_module": null,
       "_view_module_version": "",
       "_view_name": null,
       "colors": {
        "dtype": "uint32",
        "shape": [
         155,
         2
        ]
       },
       "compression_level": 0,
       "head_color": 255,
       "head_size": 20,
       "id": 140708899954960,
       "label_size": 1,
       "labels": [],
       "line_width": 0.01,
       "model_matrix": {
        "dtype": "float32",
        "shape": [
         4,
         4
        ]
       },
       "name": null,
       "origin_color": 255,
       "origins": {
        "dtype": "float32",
        "shape": [
         155,
         3
        ]
       },
       "type": "Vectors",
       "use_head": true,
       "vectors": {
        "dtype": "float32",
        "shape": [
         155,
         3
        ]
       },
       "visible": true
      }
     },
     "e10684581cf14b18b9c3d4a6a1e629bf": {
      "buffers": [
       {
        "data": "eNoDAAAAAAE=",
        "encoding": "base64",
        "path": [
         "colors",
         "compressed_buffer"
        ]
       },
       {
        "data": "eNpjYGiwZ8AAxIsBAF7EAv0=",
        "encoding": "base64",
        "path": [
         "model_matrix",
         "compressed_buffer"
        ]
       },
       {
        "data": "eNpN0CFywzAQheEw41LfIKSzpSXWLgzuDUp6hxCzFoSEegp8imKphyiNWHyMjj2x3m/0RvO8K32n4/X3sH1f5Xb+bPn+fW75KT5afr2/tfx+8ZYvL88t//z1mNlhzlL0bynqTwW7cN6zk/d8aN92ntB3zHF0HHvRWRz3DMwJvCvw3oBDYFfALeDZ8ul4ZX6YGMwN5gZzg7nB3GBuMDeYG8wN5gZzg7nB3GBuMDeYG8wN5gZzg7nB3GBuMDeYG8wN5gZzg7nB3GBuMJ+zzOcs8znLfM4yn7PM5yzzOct8ndlhzm6+/luK+lPBLpz37OQ9y3w7T+g75jg6jr3oLI57BuYE3hV4b8AhsCvgFvBsWeZbfpiMg8zHQebjIPNxkPk4yHwcZD4OMl9ndpizm6//lqL+VLAL5z07ec8y384T+o45jo5jLzqL456BOYF3Bd4bcAjsCrgFPFuW+ZYfJjXJvCaZ1yTzmmRek8xrknlNMl9ndpizm6//lqL+VLAL5z07ec8y384T+o45jo5jLzqL456BOYF3Bd4bcAjsCrgFPFuWeU3/8njPnw==",
        "encoding": "base64",
        "path": [
         "positions",
         "compressed_buffer"
        ]
       }
      ],
      "model_module": "k3d",
      "model_module_version": "2.7.0",
      "model_name": "ObjectModel",
      "state": {
       "_view_count": null,
       "_view_module": null,
       "_view_module_version": "",
       "_view_name": null,
       "color": 10075135,
       "colors": {
        "dtype": "uint32",
        "shape": [
         0
        ]
       },
       "compression_level": 0,
       "id": 140657209435920,
       "mesh_detail": 2,
       "model_matrix": {
        "dtype": "float32",
        "shape": [
         4,
         4
        ]
       },
       "name": null,
       "opacity": 1,
       "point_size": 0.1,
       "positions": {
        "dtype": "float32",
        "shape": [
         155,
         3
        ]
       },
       "shader": "3dSpecular",
       "type": "Points",
       "visible": true
      }
     },
     "e4fab0d2b4d345e1a6e33ac8ae84b503": {
      "buffers": [
       {
        "data": "eNoLYXRhCAHiyu2mYKx/dwMYSzx5BMZyz76AseKzH2Cs+vzvoMQw98HcC3M/zD8w/4VA/dtq5wzGCacSwFj+4Skwln76BowHu39x+R/mfph/YP6D+bdgvwsYSz+6BMayTz+CsfLz32A8VPyLjmHuh/kH5j+Yf6PPZoKx5JPnYDzU4pfY+If5D+bfvgZ1MDa7vRSMYfIKz76B8VCLd5h7Ye6H+QfmP5h/AV6EWRE=",
        "encoding": "base64",
        "path": [
         "colors",
         "compressed_buffer"
        ]
       },
       {
        "data": "eNpjYGiwZ8AAxIsBAF7EAv0=",
        "encoding": "base64",
        "path": [
         "model_matrix",
         "compressed_buffer"
        ]
       },
       {
        "data": "eNoVlHtUz2ccx40ct2luk3Hc55ZmCBs5fb7fx6XDXJbLMAlHszbbzIYT1dh2LNFFyaLM3RjG8Ytmmj7f5+G4X6ojQvXzIxFpUcmhsffn3+d8zvv9er/+ePIvJZu9odk8Ij1au3rGmu5RBdx6/8+6rv4Kkz+pmNv0itErMheYT18VctKcWL1w/nQzpe1N7n9ujc5tMcpcDr7OV5y1+u0jA0zTiqucujpO+03sZKp35vHQcfHa29PU3Lx/hdP9EnSXnAr9d8EF3hSUqOuZM7rLf6f436x12lq7TQ/OPcaxvyfrtD7f6RmjdvLtlhu0z5Juul5WNFddTNX75+10spO8ue/ANP3eiieuZ/tKDvv7p8u7hXeSd9zbuCe5R46NHJIc5NvIJ8lHr41ekl7w2McLLpDwgFOBk4QT/Ar8JPzYpbCLZBf2Kuwl2QsPCh5IPMCPgh8SP/Cm4I3EG3wq+CTxmX8pWcEzieczY5LM3CQ3X13ZWXsnxJjQ5VVcV9lbd/8z0pTuqOVV5f20e2y4GdS/luclDtRzKqeYjOwavlY4SC/daJtmftV8InqIrqR+5osfn7L/jQ/0xnvtzZVfKrn5wKE6M7aRmVz4mM9nDdPRMx/ozDtlXLF3uB6yV+uYZXc5YTBpr9dputviAn51QOnUk+HaxJ/iwllBusuaDvpF2Va++/F4vaz1Zuev3EBu8s1kPan+a9ec4CzX/PmfyLuVmRtI8o57G/ck97+eDLeRQ5KDfBv5JPnotdFL0gseGzwkPOBU4CThBL8CPwk/dinsItmFvQp7SfbCg4IHEg/wo+CHxA+8KXgj8QafCj5JfMKzgmcSz1G7Eo1Ve4O3hq115t1fZeaevM2eQRudY+MiTPltN88r3OKUXQ8zY3yLuc7Z4ZQuDDZTbxTy7Fm7nektAs1PT2/x1tl7nNtHfc0/Qbd4ffc/nOehPsbbdZOnlexz3M28TKXPTX6Rd8AZEu3RQ8PQ1eOQE/PsuH65oIB39HU5EUkpOjn9Gs+MyHT6nA3Rp/JyOTvohDPCt6UOHWb4+cBzzpR2CU6OO44P+xY5F5NaZXQOjsy4dLFc3q0r7jhy4R33Nu5J7pFjI4ckB/k28kny0Wujl6QXPDZ4SHjAqcBJwgl+BX4SfuxS2EWyC3sV9pLshQcFDyQe4EfBD4kfeFPwRuINPhV8kviEZwXPJJ7fOpxoRjfxcLvANhRQu8psz7/L6974ns5/FWEexHk4onccnX4aZt5Z4ubm25Ip5+dgE9CrmGeOSaHhnQKNJ7KIny9Mocvsaw5ZRbx5fQoN+NzHVE8t4hYRG2h6Gy/T9GARHzyWSrOSPLr1iGLO8d9MB7yztOdlMXdcvYu+3p+in01186TKDFpUFaKj3i/i3xrnUueAlnpO1xy2p3lZPnXxztozmzi+6yDLHtkzI96JzUjbNEPerTVnNpG8496e3TWHFO6RYyOHJAf5NvJJ8tFro5ekFzw2eEh4wKnAScIJfgV+En7sUthFsgt7FfaS7IUHBQ8kHuBHwQ+JH3hT8EbiDT4VfJL4hGcFzySePSuSzK1HD/ju0dPW8ksxJs3UcOM9BVbjPlEm1KuWxwTcsSYeDTc9Jj3jkpJSa/PoqWbyoRre1rvMau+2TdWHNZy96KGV+UM/08RU86KVj6yz73YwMe2rOcGUW+6cRqawYRWXxlVY2xuW6d0+T/izEU+sJYuNPhv+mPdF1ljjHqZr5+E9frN9nVV+5Es94F4+u7o1sOt/1FGfnJzBruCm9vixW5wNE0LYb0oru8HIzhnfLs3D39JW3q2UCSEk77i3cU9yjxwbOSQ5yLeRT5KPXhu9JL3gscFDwgNOBU4STvAr8JPwY5fCLpJd2Kuwl2QvPCh4IPEAPwp+SPzAm4I3Em/wqeCTxCc8K3gm8fw/GwvcUQ==",
        "encoding": "base64",
        "path": [
         "origins",
         "compressed_buffer"
        ]
       },
       {
        "data": "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",
        "encoding": "base64",
        "path": [
         "vectors",
         "compressed_buffer"
        ]
       }
      ],
      "model_module": "k3d",
      "model_module_version": "2.7.0",
      "model_name": "ObjectModel",
      "state": {
       "_view_count": null,
       "_view_module": null,
       "_view_module_version": "",
       "_view_name": null,
       "colors": {
        "dtype": "uint32",
        "shape": [
         155,
         2
        ]
       },
       "compression_level": 0,
       "head_color": 255,
       "head_size": 30,
       "id": 140656687921360,
       "label_size": 1,
       "labels": [],
       "line_width": 0.01,
       "model_matrix": {
        "dtype": "float32",
        "shape": [
         4,
         4
        ]
       },
       "name": null,
       "origin_color": 255,
       "origins": {
        "dtype": "float32",
        "shape": [
         155,
         3
        ]
       },
       "type": "Vectors",
       "use_head": true,
       "vectors": {
        "dtype": "float32",
        "shape": [
         155,
         3
        ]
       },
       "visible": true
      }
     },
     "e4fd9bc3b2d749cea20699fb0594a3dd": {
      "model_module": "@jupyter-widgets/base",
      "model_module_version": "1.2.0",
      "model_name": "LayoutModel",
      "state": {}
     },
     "e6737ab6046e47bc80a6ffe43bb487cd": {
      "model_module": "k3d",
      "model_module_version": "2.7.0",
      "model_name": "PlotModel",
      "state": {
       "_backend_version": "2.7.0",
       "_dom_classes": [],
       "_view_count": null,
       "antialias": 3,
       "axes": [
        "x",
        "y",
        "z"
       ],
       "axes_helper": 1,
       "background_color": 16777215,
       "camera": [
        41.57623484190487,
        -89.41672766648949,
        1.6091099770710438,
        0.031036376953125,
        0.0009529590606689453,
        -5.003619194030762,
        -0.017062972762673816,
        0.004805659049919958,
        0.9998428679555578
       ],
       "camera_auto_fit": true,
       "camera_fov": 60,
       "camera_no_pan": false,
       "camera_no_rotate": false,
       "camera_no_zoom": false,
       "clipping_planes": [],
       "colorbar_object_id": -1,
       "fps_meter": false,
       "grid": [
        -1,
        -1,
        -1,
        1,
        1,
        1
       ],
       "grid_auto_fit": true,
       "grid_visible": true,
       "height": 512,
       "layout": "IPY_MODEL_e4fd9bc3b2d749cea20699fb0594a3dd",
       "lighting": 1.5,
       "menu_visibility": true,
       "name": null,
       "object_ids": [
        140656679708432,
        140656688565072
       ],
       "rendering_steps": 1,
       "screenshot": "",
       "screenshot_scale": 2,
       "time": 0,
       "voxel_paint_color": 0
      }
     },
     "e7eacd539dc046ec8d2193336fd34034": {
      "model_module": "@jupyter-widgets/output",
      "model_module_version": "1.0.0",
      "model_name": "OutputModel",
      "state": {
       "layout": "IPY_MODEL_885b798bd64f41218066e53edc3e5cfc",
       "outputs": [
        {
         "data": {
          "application/vnd.jupyter.widget-view+json": {
           "model_id": "c22d1ebc183f4daab4a3516ab7cdc789",
           "version_major": 2,
           "version_minor": 0
          },
          "text/plain": "Plot(antialias=3, axes=['x', 'y', 'z'], axes_helper=1.0, background_color=16777215, camera=[4.5, 4.5, 4.5, 0.0…"
         },
         "metadata": {},
         "output_type": "display_data"
        }
       ]
      }
     },
     "e8cdab19964f43f3a0e9ef51d9962e08": {
      "buffers": [
       {
        "data": "eNp1070vQ1EcxnH+CYlE9EVbFWoQNGIxVJgMDYlg7MDiLTFoWk1RbfXeGsQgkXgJCYNBJUxiklhYLBZhIB39BRLynPu9iSYdPsPJuef8nqf31poYaLD+lFc6xS75ZXvfI/kTY/PcL9nLkKxddcnqTa8s3w3J3ENcJp/nZeh1T3wfD9Ly9S3B6o+wZp/nOc993M885pOHfOQlP33oZzl97Zl+KSc7xLb9wrnCkZE788nGRZtkL9slXYnI6m2fLN7HJPE4JWMvGYm8VaT5syr0Zs0+z3Oe+7ifecwnD/nI6/Z2+rj96LsUMTaDYu/4pLTnEc4XD1qlcOiR/LGxdeqV2u8hdd0tvKfppzkJvd8JvVmzz/Ocr32fzGM+echHXvLTh3705Xeydr1iW34pF9v+K9SRDxi5oLEeMlJhw5ljTUUl2TUi440xYc2++x44z33cz7x6eWpy04d+9OX74fdyv4utgMHcrCPTbqTDhvP98P8pL3QbiR4pxQclGx2W2aZRoTdr9nme8+593M885pOHfOR18tOHfvT9BRcQlYI=",
        "encoding": "base64",
        "path": [
         "colors",
         "compressed_buffer"
        ]
       },
       {
        "data": "eNpjYGiwZ8AAxIsBAF7EAv0=",
        "encoding": "base64",
        "path": [
         "model_matrix",
         "compressed_buffer"
        ]
       },
       {
        "data": "eNodkHlwjWcUxjGxRQcjM0LUGlLSaMWSSk2d73ttg44RSUTJ3IotMkYZy7QVRSPEEiTRIEmNRhiKJnqjaqvzvW9SDBMRESJyE7dqq7VyI8p0eU7/PXPmeX7Pz0ndZg66ztKngzN1u4p1JnhlNT2JSdeVEV+Yqil19Lh6gy4om2Om/1NLi/as137zo0xM5xq6ErFON7YeaS5H3aBwStV+RaHG/+k1Svp8rSZXoPEVXKXzxSn6aGc/U3O/nOZWfq1bHPPqU9WXKPHEGn1u6mnd6+9S6r1hlQ7rk62HVZygp+4VOm26S38ypoCs2uU6ZniAbnb6Kwqat1g747Ocs5nt6XDeAp3hGea+7dsVnpuTJHcLd5Y7/m38s/wjx0YOSw7ybeSz5KPXRi9Lb/NjXvtk9SUWHnAqcLJwgl+Bn4UfuxR2sezCXoW9/P/e+VEKHlg8wI+CHxY/8KbgjcUbfCr4ZPHppG5T8MziuaxNpknIrKew1ZY+mpRmXCsayK/DB/pIerK5t7eJkgPCtYqcb4YOaqLdiwfqgLoYU3y2kUKD39VRa2zTLsxHo1IG6AHB75mkr19QWUh/XXk+yJSvf04NZSG6zWetTXTtE4oY3U/v6/9AH//tIXWKC9YZi7VO+/IOLbnYSycW5uo+y6qpRXR3vdlJ1GZLKfXd20VPDA7Srx/uoe5FnfSLnBzneMVIasp8S/ffmOz2RtmFuTlt5W7hznLHv41/ln/k2MhhyUG+jXyWfPTa6GXpBY8NHhYecCpwsnCCX4GfhR+7FHax7MJehb0se+FBwQOLB/hR8MPiB94UvLF4g08Fnyw+4VnBM4vnroVZxmq6SQl5x5wZHTeahJLb1PPSASfwySrz+HY97Q7Od4YfWWDGh9aRH+12trimmdibtZS/N9dZ1GaMSXlxixK+2+VE/hBuzoy7RQtrdzjLJvUw7d019H23bKf+kb95HlhDrQZudx61eqYj56CrJsOhPhf0mwXV5Lq2xWnolq+z8q7T/rSNzqvTS3Xp1QpSJ1Kc/mv7ateHhjrkLnQCsw845fXptPvQGOfQ/Up3Ynyke968ELlbV+rTWe74t/HP8o8cGzksOci3kc+Sj14bvSy94LHBw8IDTgVOFk7wK/Cz8GOXwi6WXdirsJdlLzwoeGDxAD8Kflj8wJuCNxZv8Kngk8UnPCt4ZvG8Lj/LjG3rJd/tn2hts40mv+oODV+9nlqWrTIP0r3UsSiRZmQuMF2X19M9nk77JkwzI96po4kL42jz69HGm+yhjr3iaEJBuCmyPHSheiqNGNvD+GI95O0QS/Pu+Bv/Qg/t2zqZSl881QGj6mjmrnEU5H9Be9/U0a/PIujf5vn6ZWw9xffsQkczluqV73so3XN65MdL+uqZva/Q4Aebfon98YCz6XwODV0/mXfeeeTe7xvjHjKkmHG3cGe549/GP4fjHzk2clhykG8jnyUfvTZ6WXrBY4OHhQecCpwsnOBX4Gfhxy6FXSy7sFdhL8teeFDwwOIBfhT8sPiBNwVvLN7gU8Eni094VvDM4vnY1Qxz69ED6j7hL2tUaJrJNY30atp961zHZOPya6KfSz3W1cuJpt+Ul/R2t5vWjbQYE13USDNvXLeORNqmYXgjqa1V1uzfB5q2xkfbVl+zCjYEmbQgHy35qNKqD2ltals2UNDSCmvNqvt6f+CflHfmsjVln6MvzH9CU1MvWj1LcrTzx13y3S2xIsrn6vC7VfTtqZNW0qwuuiS6mPLiD1s9Zu90sifF08G4PCtrx053WOKsQUOGbJe79c2keJY7/m38s/wPK59rI4clB/k28lny0Wujl6UXPDZ4WHjAqcDJwgl+BX4WfuxS2MWyC3sV9rLshQcFDywe4EfBD4sfeFPwxuINPhV8sviEZwXPLJ7/A1cWydY=",
        "encoding": "base64",
        "path": [
         "origins",
         "compressed_buffer"
        ]
       },
       {
        "data": "eNoV0HtUz3cYB3BtNte55NAUI8pthmkXWb/P8xyXYc0liaR+6djUz21GuUyMmXVyMD8NR5IzcTY6LtOW4ff7Pk8RjkxpsnRRP0suJbYyBwd7nn8/53Pez/v96jG2hH62G24I7IJuRyn1TY7ktD0bYcCG61Q61c7hDZFmrV8VRb2I5jXjj1lRf1TTtG5RfD90OM3389DlsBl8LmgxddhXQ20bp3GZt5P29rxBzVlTeVDKQcoNvU7ltyfzgrQCqsm7QqfKQrl/0x1KzzlHvZ+P4WarHRtnLr1/ZQQ7Ewbx7hWZNHNsX37eM4wHXlpKLU4/p6CiZI4oak2WcwtFOJ28teq34TXNbx5P37WLpxe1BnkHfZf/IP9B/0sOSA5qjuSD5KPmy12Qu6h3PXlX4GRZKGof6QnSE7Wn9Afpj9pfdoHsQt21wM8Dshd1rziAOKA6iA+ID6qPuIG4obqJJ4gnqmePsSUgzqjO9iYvK84Zy3FPXsWrK5xu+1dLObkmDnaXe7nr9i1ny93GPK7d5Hpv2HJ2lWVZPo5trhwriU+m+9Ev/fJc7QYn8o4Tk+lwcJ3LsW4JR/dbRcUBja6i7xZzae80KnNUucIrF3KWK5tq5xa6cm86uGLLReqz84YrZeUcro1sotpgf3efxEhuiu/Kjzasc+dvHsPVjSN517wc99O7vdg3ZR6fjst0516xqO/vm3lA6rPhnrC8IWqeH5dpk3fQ973zcmzyH/X/0w3rbJKDmlMf7G+TfNT8oTtvhMhd1LuNcwtDpA9qH4+jKkR6ovb8K6AxRPqj9s8JrguRXai7cvvlhche1L1+jm0h4oDq8Kx2U4j4oPrsKfeyiRuqW+kKp008UT1jm7yMOKM6j4vPB3w8k1tV7Ich5iLEnZnNVXOemPp2V6GhJpazLztttanlMGGQnXvBMOvO1SqIuB7Nt7OzLc8r1fDNv7O4uqneeqv+BrjGzeJBwd605kEVdDgexUljh1Djywp46BPFGUMn0qjdZRD82UxunrmEVp0ugWfzI9k7xkmnfroA23ZP58r8HFqdeQLOloTxA9s9GnA+HewjR7GnMIC714VCUXV7PncokQ/dDg+Kjz45XM196kKpuLo96rv8J/mP+j858wRJDmqO5JPko+bLXZK7qHelD0kf1D7Sk6Qnak/pT9Iftb/sItmFukv2kuxF3SsOJA6oDuJD4oPqI24kbqhu4kniieopziTOqM6Lerrg4zZxXLx+Bt0Ly4cfS+ew1+0i95xWl+DOpjj+NmWUOVzyJ3RPiuX4FtvNyvIy+Ki/nUs/2WduplaAZ1UM09dZZt0XlXAUY7g6Y7+xeSqgOSKGkznbFHuuQ9sjMby4wG0Su12DLqPtvDbTY67mFoHnmZ2X9faGQEcB/BcRyxPyJsOju79C8tAYHtl5H8w/uQtm+0/h9Uda4z8HJ8LG893Zd3QC7vx7ftCB5gI1xwcHJ5K8o77Lf5L/qP8lhyQHNSfAUUCSj+MlX+6S3EW9u7TbNZI+qH2kJ0lP1J7Sn6Q/an/ZRbILdZfsJdmLulccSBxQHcSHxAfVR9xI3FDdxJPEE9VTnEmcUZ1p8GGroj6BG6ZcpJYfZlnp+Un8eq966wP/TZa95XKeXtLBeK+eawVOXcYrMypNw1ljhR9N4hep3rB9UaDVNCKJ6/z6g3+4r9UmP5E7tRoBENjDSvFN5DsDPoV3Xg60Kl9bylGXE6Dj1tHWAZ8v+W2/jbCyc4J1IWEhh1Vlw5TCVIvvfc6xxTXAuRnWu7ci+Puu3fGNLnusM+FBnLZ5Ktbfira2T6qkY1NScdsOn6DB8TePqfnDW9Hmh0mVoO8du+wx8h/1f35uhpEc1JywwlQj+aj5qzonGLmLerfT1tFG+qD2GfJyoJGeqD0xsIeR/qj9+4T7GtmFumvHokAje1H33j9rjDigOoiPER9UH3Ez4obqJp5GPFE9xdmIM6rz/87dvbA=",
        "encoding": "base64",
        "path": [
         "vectors",
         "compressed_buffer"
        ]
       }
      ],
      "model_module": "k3d",
      "model_module_version": "2.7.0",
      "model_name": "ObjectModel",
      "state": {
       "_view_count": null,
       "_view_module": null,
       "_view_module_version": "",
       "_view_name": null,
       "colors": {
        "dtype": "uint32",
        "shape": [
         155,
         2
        ]
       },
       "compression_level": 0,
       "head_color": 255,
       "head_size": 20,
       "id": 140656678833744,
       "label_size": 1,
       "labels": [],
       "line_width": 0.01,
       "model_matrix": {
        "dtype": "float32",
        "shape": [
         4,
         4
        ]
       },
       "name": null,
       "origin_color": 255,
       "origins": {
        "dtype": "float32",
        "shape": [
         155,
         3
        ]
       },
       "type": "Vectors",
       "use_head": true,
       "vectors": {
        "dtype": "float32",
        "shape": [
         155,
         3
        ]
       },
       "visible": true
      }
     },
     "e8d8b22bd6c246cfa1b50a3359834267": {
      "buffers": [
       {
        "data": "eNoDAAAAAAE=",
        "encoding": "base64",
        "path": [
         "colors",
         "compressed_buffer"
        ]
       },
       {
        "data": "eNpjYGiwZ8AAxIsBAF7EAv0=",
        "encoding": "base64",
        "path": [
         "model_matrix",
         "compressed_buffer"
        ]
       },
       {
        "data": "eNpN0CFywzAQheEw41LfIKSzpSXWLgzuDUp6hxCzFoSEegp8imKphyiNWHyMjj2x3m/0RvO8K32n4/X3sH1f5Xb+bPn+fW75KT5afr2/tfx+8ZYvL88t//z1mNlhzlL0bynqTwW7cN6zk/d8aN92ntB3zHF0HHvRWRz3DMwJvCvw3oBDYFfALeDZ8ul4ZX6YGMwN5gZzg7nB3GBuMDeYG8wN5gZzg7nB3GBuMDeYG8wN5gZzg7nB3GBuMDeYG8wN5gZzg7nB3GBuMJ+zzOcs8znLfM4yn7PM5yzzOct8ndlhzm6+/luK+lPBLpz37OQ9y3w7T+g75jg6jr3oLI57BuYE3hV4b8AhsCvgFvBsWeZbfpiMg8zHQebjIPNxkPk4yHwcZD4OMl9ndpizm6//lqL+VLAL5z07ec8y384T+o45jo5jLzqL456BOYF3Bd4bcAjsCrgFPFuW+ZYfJjXJvCaZ1yTzmmRek8xrknlNMl9ndpizm6//lqL+VLAL5z07ec8y384T+o45jo5jLzqL456BOYF3Bd4bcAjsCrgFPFuWeU3/8njPnw==",
        "encoding": "base64",
        "path": [
         "positions",
         "compressed_buffer"
        ]
       }
      ],
      "model_module": "k3d",
      "model_module_version": "2.7.0",
      "model_name": "ObjectModel",
      "state": {
       "_view_count": null,
       "_view_module": null,
       "_view_module_version": "",
       "_view_name": null,
       "color": 10075135,
       "colors": {
        "dtype": "uint32",
        "shape": [
         0
        ]
       },
       "compression_level": 0,
       "id": 140656678882512,
       "mesh_detail": 2,
       "model_matrix": {
        "dtype": "float32",
        "shape": [
         4,
         4
        ]
       },
       "name": null,
       "opacity": 1,
       "point_size": 0.1,
       "positions": {
        "dtype": "float32",
        "shape": [
         155,
         3
        ]
       },
       "shader": "3dSpecular",
       "type": "Points",
       "visible": true
      }
     },
     "efc0766187f2470aa1b0fc35ed33dffe": {
      "buffers": [
       {
        "data": "eNoLYXRhCAHiyu2mYKx/dwMYSzx5BMZyz76AseKzH2Cs+vzvoMQw98HcC3M/zD8w/4VA/dtq5wzGCacSwFj+4Skwln76BowHu39x+R/mfph/YP6D+bdgvwsYSz+6BMayTz+CsfLz32A8VPyLjmHuh/kH5j+Yf6PPZoKx5JPnYDzU4pfY+If5D+bfvgZ1MDa7vRSMYfIKz76B8VCLd5h7Ye6H+QfmP5h/AV6EWRE=",
        "encoding": "base64",
        "path": [
         "colors",
         "compressed_buffer"
        ]
       },
       {
        "data": "eNpjYGiwZ8AAxIsBAF7EAv0=",
        "encoding": "base64",
        "path": [
         "model_matrix",
         "compressed_buffer"
        ]
       },
       {
        "data": "eNolkH1QVFUYxm2y8GMMybBxDfEDtBAQ3LDce+9yz2H8qJlGU1nwKxjddGuEQY1wRGcMS0YTBBcaZrfEDJs0tJFVwL13995z/AgVY0aHzEksGs1d3RkdpRib0J7T/e+dd8553t/za+6u51k3iozy3ia24J9qXjBmKHxynY91FG7j9vJ94YSoj6mXPfxGWWr4ZqKfuRfl87arPFQ+3c9cvxK+zfwwlJLhZ4mlmTz3r7Gh8Vl+tuu5iTzuWIe+I9vP3jwYx385VKrLs/1s7dYISyqZpLdgru1gbN6GXq0f87BBH/shuk973u5nL5Z52LEtipaEeeGAjYV2/hlMw/ztI5+Z61oRzMbsj844fC61IsVu7VXsHdnWe4L3jjQrhyBHEjnIJ8iXRD7uEtyV+i0eAh5Z8ICTglMWnOCn4JcFP3pR9FJEL/Sl6KuIvvBA4UERHuCHwo9T+IE3Cm9O4Q0+KXw6hc/m7noKz7nC80J7Pa+my42SqiUsvKua5xQ8DC+S8tnk9kqeMfB5OOFZF4ut8vDtNa+Fy4mLbXomn4+/83MoscDFSlsId5+uCbmLXOzo/Exeu4WE7q5xsUDExl++HReqcbtY7544fiXljF78vot9sCLCzo2q1a9gPtnMWF/RIn3cOhf79LaPDVUk6nMxVxV4WB7p0RZjPnzLxtIuV2mrMZfc8pl75g8F3ZjTIw8Pj57Z2bLO2qvYO9zWe4L30morhyBHWmzlE+TLIh93Ce7K4i54CHhkwQNOCk5ZcIKfgl8R/OhF0UsRvdCXoq8i+sIDhQdFeIAfCj9O4QfeKLw5hTf4pPDpFD7hmcJzrvD89Hodz9v9JHx/MGoWkWq+foEn3DU1Zta/Xclt6Y9D0YaY2THCw6cONIXunYqZKcYyvnzTO6EMHjNtZYQHTyWEtv4YMwuTMvn2yl796YWYOaHLxq+sadbnX4qZ2Rvj+LiiMv0R5lWzI6zxYI6+tDtm9u1gTM8boe/GvPYnHzub16UdwfzZHA9rbN2raZhLemzMPdquncf8XY/P7Jl2PHhJ/DVrUy8Or5ly2dqr2DsuWe8J3kvnrRyCHEmz8gnypSPWXYK7srgLHgIeWfCAk4JTFpzgp+CXBT96UfSSRS/0peiriL7wQOFBER7gh8KPIvzAG4U3RXiDTwqfTuETnik8O4XntrH1vKY94ozfedSIX1nNr52f4zzTecI4nl/JJyU1KJsvtBl/PFnPB2JReeNQm/FF6zL+0ivJcld8wHhvJeFjNl9zJE0MGHUjM/n10u7gzGkBo7HdxgujM7TuVwNG4Zo4zm+maf70gPF4QoQRJVFLnhUwNpQw1n7sQfBsVsD4yPCxztvtwavZAaNvsoelzKgK7pgdMJYzG2uaPj0YxdzNfGZn1denp9gDxoM65VB51+4Wu/3/vYr9XLHHe4L3DvEeOQQ5DpGDfIJ8h8jHXYK7DnEXPAQ8kuABJwWnJDjBT8EvCX70oujlEL3Ql6JvUPSFBwoPuvAAPxR+dOEH3ii8hYQ3+KTwGRY+4ZnCc1h4fvdEHe9LSM+d0tikFidX85rwl85DnzSoZ+Mr+WDxcOfUeq86snc9b91PlTsurzph/zJ+cdAuH5nnVcvfIvxCx17tY6dXbf83g2c3JOtlDq96v9XGF1Rm6b+/4VVvrYjjTcOm6bPmeNWlL0TYzT2j9LE5XnW1m7G0wt+0pa971fpOH8s58L12ze5V7473sKH+Cq0ac3/QxvrWTtZcmEs0n/l38VdBGfPje0tSKw7wb+zWXsXeIVvvCd5LLiuHIEcSOcgnyJdEPu4S3JXEXfAQ8MiCB5wUnLLgBD8Fvyz40Yuilyx6oS9FX0n0hQcKD7rwAD8UfkLCD7xReAsLb/BJ4TMsfMIzhWdDeP4P2GGtAQ==",
        "encoding": "base64",
        "path": [
         "origins",
         "compressed_buffer"
        ]
       },
       {
        "data": "eNolk31M1VUYx820pgLOtHIFKi9aIvbiW8bvnHMPMAWLaZqC2gtCTrOsKeVLEQ6VhYIwrnrx/mgDQwFTUKdDrvd3zrnK0JXLUddZaeDLJiqkoY5kNXV9H+9/Z8+e+30+38/ur3l+rOu19suufQe+lfFtD0RmeL6rZuoO2dbmiMlrhrq2pe2Sy18tEe2rasXdg1655913xJFzyWL/ZFuyzijxzYluHrPClomx97jrn3LeWGDLF6XDn258gz8qsWUgx83/qPmbXXHbMmpWNo/6rIrFeWz5S0MCn7FyAQvbZcvy8U/wQ11D2SSvLSMH+Fjjem114v2zZyXTm5dZc2xbnt90w3JlXEzcgvd3XfVjT43t21sZmjuY+2mOfYV9h/aRo5DjUA7yNfIV5eOuxl1Fd8GjwaOIB5wanIo4wa/Br4kfvTR6aeqFvgZ9NfWFBwMPhjzAj4EfQ37gzcBbgLzBp4HPAPlsnh8bgOcAeV5ybjQvSr7gahpULBO6J/Kpmbku6/ZOOeL0LD6xd4grOcwrS9ozeH7pDyI40JZ1LXP5czcyxLz3bdmSIfnS4+GiPN+WR26/zMvWn+T7wFl9fSh/vrOIT9luS5ndw4JxKbwAvb5ubWGnBkfwNPTtLa5kHVlt7G14mHJ5JXu4zsOu4b2xdAJLSZrDXPCW3XPJij/bn63BO2Pde1bxzHzLjXfCzdxxQyZMH1sZmjuYO+7QvoN9RfvIUchRlIN8hXxF+bircFfRXfAo8GjiwY8VODVxgl+DXxM/emn00tQLfTX6GuoLDxoeDHmAHw0/hvzAm4a3AHmDTw2fAfIJzxqeA+S5aleVSdm6wdXRs0PG9PvELE+9KdwzvNJ/IM68kPCVCI635bDlnTqmd6T47VNbjsrcrRflnuWLCm2Z+laO9je5eW+ZLQv2Ruv8vAX80Q5bBoNdKpgzmpdU2HJb5341POsOu45etWl5yrO7idWib/ri6UqlbGHPwEntuIGqNSWNzcW78LjP8TSEsbV4X4he4SwdctQqwftw3VV/W+wrVgXeHSci6s4MCK+pDM0TMXcqQvsW9p2SUI6FHLU2lM+Qrygfdxnuqsd30/IYeBTxgJOBUxEn+Bn4NfGjF0cvTb3Ql6Ovpr7wwOFBkwf44fBjyA+8CXgz5A0+BXwa8gnPAp4D5Dn2ZKsuPfZxoCjJI1eLJ83vp4+Z7HavbFodYUZFjTDHl9qy9IOnTO+tFdq3wZYHy7r1iMhqda0IPM+26vAvMp2yUlse6qnWFz5PtyrwbeZtLNALu+qtZTvxPU5L1y2X9luzwZ+YNUYncY9Vjl5JzX3qWOMqKwd9V4f5la9zmtWN95tnC1XcS/0tCScN1+OVd1xdIv1vD6XXO75N0Yn0f75TrmPW/Djo8f8ccwtzvzu0z7Dvp33kMOQ4lIN8hnyH8nGX4a5Dd8HDweMQDzg5OB3iBD8Hv0P86MXRy6Fe6MvR16K+8MDhgZEH+BHww8kPvAl4E+QNPgV8CvIJzxyeXeTZd6/HdAxrCATOl8m5j3ym1EQG1IMKWR1bavqWFBrV4ZVREYtNw/YWPWmeLf9Lijdn+o6qxi9tef/Pgean5jA2fDO+qUXn9Os7q9kYfIONkfU6Ne8wSyq3Zc2tzdrbbw/bg/9Jd99sfam4mF3B9/vryDE6fmEWW4y+udF31dSqCWwefe+VDerh1T7rLt6D936oOj7abc2Ht+9TLzr3l0RZW/H+969g7bqq5LjK0NzC3KE59hn2HdpHDkOOQznIZ8hXlI+7HHcV3QUPB48iHnBycCriBD8HvyJ+9OLopagX+gr0VdQXHgQ8MPIAPwJ+OPmBNwFvgrzBp4BPF/mEZwHPLvL8P+d/jiY=",
        "encoding": "base64",
        "path": [
         "vectors",
         "compressed_buffer"
        ]
       }
      ],
      "model_module": "k3d",
      "model_module_version": "2.7.0",
      "model_name": "ObjectModel",
      "state": {
       "_view_count": null,
       "_view_module": null,
       "_view_module_version": "",
       "_view_name": null,
       "colors": {
        "dtype": "uint32",
        "shape": [
         155,
         2
        ]
       },
       "compression_level": 0,
       "head_color": 255,
       "head_size": 30,
       "id": 139825483346832,
       "label_size": 1,
       "labels": [],
       "line_width": 0.01,
       "model_matrix": {
        "dtype": "float32",
        "shape": [
         4,
         4
        ]
       },
       "name": null,
       "origin_color": 255,
       "origins": {
        "dtype": "float32",
        "shape": [
         155,
         3
        ]
       },
       "type": "Vectors",
       "use_head": true,
       "vectors": {
        "dtype": "float32",
        "shape": [
         155,
         3
        ]
       },
       "visible": true
      }
     },
     "f472a2f91cc9433998d03b1f0a5443ef": {
      "model_module": "@jupyter-widgets/output",
      "model_module_version": "1.0.0",
      "model_name": "OutputModel",
      "state": {
       "layout": "IPY_MODEL_10a261db046f45da8bc036516370ad4e",
       "outputs": [
        {
         "data": {
          "application/vnd.jupyter.widget-view+json": {
           "model_id": "2547609205bd44d1b8913404cb6d550a",
           "version_major": 2,
           "version_minor": 0
          },
          "text/plain": "Plot(antialias=3, axes=['x', 'y', 'z'], axes_helper=1.0, background_color=16777215, camera=[4.5, 4.5, 4.5, 0.0…"
         },
         "metadata": {},
         "output_type": "display_data"
        }
       ]
      }
     }
    },
    "version_major": 2,
    "version_minor": 0
   }
  }
 },
 "nbformat": 4,
 "nbformat_minor": 2
}
